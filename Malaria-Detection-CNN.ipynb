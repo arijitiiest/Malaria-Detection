{
 "cells": [
  {
   "cell_type": "markdown",
   "metadata": {},
   "source": [
    "# Malaria Detection - CNN"
   ]
  },
  {
   "cell_type": "code",
   "execution_count": 6,
   "metadata": {},
   "outputs": [],
   "source": [
    "import os\n",
    "import cv2\n",
    "import numpy as np\n",
    "import pandas as pd\n",
    "import matplotlib.pyplot as plt"
   ]
  },
  {
   "cell_type": "code",
   "execution_count": 46,
   "metadata": {},
   "outputs": [],
   "source": [
    "from sklearn import preprocessing\n",
    "from sklearn.model_selection import train_test_split\n",
    "from tensorflow.keras.utils import to_categorical"
   ]
  },
  {
   "cell_type": "code",
   "execution_count": 1,
   "metadata": {},
   "outputs": [],
   "source": [
    "import tensorflow as tf\n",
    "from tensorflow import keras\n",
    "from tensorflow.keras.models import Sequential\n",
    "from tensorflow.keras.layers import Dense, Dropout, Activation, Flatten\n",
    "from tensorflow.keras.layers import Conv2D, MaxPooling2D"
   ]
  },
  {
   "cell_type": "markdown",
   "metadata": {},
   "source": [
    "## Functions"
   ]
  },
  {
   "cell_type": "markdown",
   "metadata": {},
   "source": [
    "### Read Dataset:"
   ]
  },
  {
   "cell_type": "code",
   "execution_count": 7,
   "metadata": {},
   "outputs": [],
   "source": [
    "def read_images(path):\n",
    "    images = []\n",
    "    labels = []\n",
    "    num1 = 32\n",
    "    num2 = 32\n",
    "    for file_name in os.listdir(path):\n",
    "        file_path = path + '/' + file_name\n",
    "        for img_name in os.listdir(file_path):\n",
    "            if not img_name.startswith('.'):\n",
    "                if img_name.endswith('.png'):\n",
    "                    img = cv2.imread(file_path + '/' + img_name)\n",
    "                    new_img = cv2.resize(img, (num2, num1))\n",
    "                    images.append(new_img)\n",
    "                    if file_name == 'Parasitized':\n",
    "                        label = 0\n",
    "                    else:\n",
    "                        label = 1\n",
    "                    labels.append(label)\n",
    "    \n",
    "    return np.array(images), np.array(labels)"
   ]
  },
  {
   "cell_type": "markdown",
   "metadata": {},
   "source": [
    "## Main Cells"
   ]
  },
  {
   "cell_type": "markdown",
   "metadata": {},
   "source": [
    "### Read Data"
   ]
  },
  {
   "cell_type": "code",
   "execution_count": 8,
   "metadata": {},
   "outputs": [],
   "source": [
    "full_data_x, full_data_y = read_images('cell_images')"
   ]
  },
  {
   "cell_type": "code",
   "execution_count": 9,
   "metadata": {},
   "outputs": [
    {
     "data": {
      "text/plain": [
       "((27558, 32, 32, 3), (27558,))"
      ]
     },
     "execution_count": 9,
     "metadata": {},
     "output_type": "execute_result"
    }
   ],
   "source": [
    "full_data_x.shape, full_data_y.shape"
   ]
  },
  {
   "cell_type": "markdown",
   "metadata": {},
   "source": [
    "### Train and Test set:"
   ]
  },
  {
   "cell_type": "code",
   "execution_count": 11,
   "metadata": {},
   "outputs": [],
   "source": [
    "train_CNN_x, test_CNN_x, train_CNN_y, test_CNN_y = train_test_split(full_data_x, full_data_y, test_size=0.2)"
   ]
  },
  {
   "cell_type": "markdown",
   "metadata": {},
   "source": [
    "### Save train and test data:"
   ]
  },
  {
   "cell_type": "code",
   "execution_count": 12,
   "metadata": {},
   "outputs": [],
   "source": [
    "np.save('data/train_CNN_x.npy', train_CNN_x)\n",
    "np.save('data/train_CNN_y.npy', train_CNN_y)\n",
    "np.save('data/test_CNN_x.npy', test_CNN_x)\n",
    "np.save('data/test_CNN_y.npy', test_CNN_y)"
   ]
  },
  {
   "cell_type": "markdown",
   "metadata": {},
   "source": [
    "### Load:"
   ]
  },
  {
   "cell_type": "code",
   "execution_count": 35,
   "metadata": {},
   "outputs": [],
   "source": [
    "train_CNN_x = np.load('data/train_CNN_x.npy')\n",
    "train_CNN_y = np.load('data/train_CNN_y.npy')\n",
    "test_CNN_x = np.load('data/test_CNN_x.npy')\n",
    "test_CNN_y = np.load('data/test_CNN_y.npy')"
   ]
  },
  {
   "cell_type": "code",
   "execution_count": 36,
   "metadata": {},
   "outputs": [
    {
     "data": {
      "text/plain": [
       "((22046, 32, 32, 3), (22046,), (5512, 32, 32, 3), (5512,))"
      ]
     },
     "execution_count": 36,
     "metadata": {},
     "output_type": "execute_result"
    }
   ],
   "source": [
    "train_CNN_x.shape, train_CNN_y.shape, test_CNN_x.shape, test_CNN_y.shape"
   ]
  },
  {
   "cell_type": "markdown",
   "metadata": {},
   "source": [
    "### Visualize data:"
   ]
  },
  {
   "cell_type": "code",
   "execution_count": 37,
   "metadata": {},
   "outputs": [
    {
     "name": "stdout",
     "output_type": "stream",
     "text": [
      "Parasitized\n"
     ]
    },
    {
     "data": {
      "image/png": "[encoded data removed]",
      "text/plain": [
       "<Figure size 432x288 with 1 Axes>"
      ]
     },
     "metadata": {
      "needs_background": "light"
     },
     "output_type": "display_data"
    }
   ],
   "source": [
    "plt.imshow(train_CNN_x[3], cmap='gray')\n",
    "if train_CNN_y[3]==1:\n",
    "    print(\"Uninfected\")\n",
    "else:\n",
    "    print(\"Parasitized\")"
   ]
  },
  {
   "cell_type": "markdown",
   "metadata": {},
   "source": [
    "### Convert images to gray normalized data:"
   ]
  },
  {
   "cell_type": "code",
   "execution_count": 50,
   "metadata": {},
   "outputs": [],
   "source": [
    "X_train = np.array([cv2.cvtColor(image, cv2.COLOR_RGB2GRAY) for image in train_CNN_x]).astype('float32')\n",
    "X_train = X_train.reshape(X_train.shape[0],32,32,1) / 255.0\n",
    "\n",
    "X_test = np.array([cv2.cvtColor(image, cv2.COLOR_RGB2GRAY) for image in test_CNN_x]).astype('float32')\n",
    "X_test = X_test.reshape(X_test.shape[0],32,32,1) / 255.0"
   ]
  },
  {
   "cell_type": "markdown",
   "metadata": {},
   "source": [
    "### Categorical data Y"
   ]
  },
  {
   "cell_type": "code",
   "execution_count": 51,
   "metadata": {},
   "outputs": [],
   "source": [
    "lb = preprocessing.LabelBinarizer()\n",
    "y_train = lb.fit_transform(train_CNN_y)\n",
    "y_test = lb.fit_transform(test_CNN_y)\n",
    "\n",
    "y_train = to_categorical(train_CNN_y)\n",
    "y_test = to_categorical(test_CNN_y)"
   ]
  },
  {
   "cell_type": "code",
   "execution_count": 52,
   "metadata": {},
   "outputs": [
    {
     "name": "stdout",
     "output_type": "stream",
     "text": [
      "X_train shape (22046, 32, 32, 1)\n",
      "Y_train shape (22046, 2)\n"
     ]
    }
   ],
   "source": [
    "print(\"X_train shape\", X_train.shape)\n",
    "print(\"Y_train shape\", y_train.shape)"
   ]
  },
  {
   "cell_type": "markdown",
   "metadata": {},
   "source": [
    "## Training:"
   ]
  },
  {
   "cell_type": "code",
   "execution_count": 57,
   "metadata": {},
   "outputs": [
    {
     "name": "stdout",
     "output_type": "stream",
     "text": [
      "Model: \"sequential_1\"\n",
      "_________________________________________________________________\n",
      "Layer (type)                 Output Shape              Param #   \n",
      "=================================================================\n",
      "conv2d_3 (Conv2D)            (None, 32, 32, 16)        160       \n",
      "_________________________________________________________________\n",
      "max_pooling2d_3 (MaxPooling2 (None, 16, 16, 16)        0         \n",
      "_________________________________________________________________\n",
      "conv2d_4 (Conv2D)            (None, 16, 16, 32)        4640      \n",
      "_________________________________________________________________\n",
      "max_pooling2d_4 (MaxPooling2 (None, 8, 8, 32)          0         \n",
      "_________________________________________________________________\n",
      "conv2d_5 (Conv2D)            (None, 8, 8, 64)          18496     \n",
      "_________________________________________________________________\n",
      "max_pooling2d_5 (MaxPooling2 (None, 4, 4, 64)          0         \n",
      "_________________________________________________________________\n",
      "dropout_2 (Dropout)          (None, 4, 4, 64)          0         \n",
      "_________________________________________________________________\n",
      "flatten_1 (Flatten)          (None, 1024)              0         \n",
      "_________________________________________________________________\n",
      "dense_2 (Dense)              (None, 200)               205000    \n",
      "_________________________________________________________________\n",
      "dropout_3 (Dropout)          (None, 200)               0         \n",
      "_________________________________________________________________\n",
      "dense_3 (Dense)              (None, 2)                 402       \n",
      "=================================================================\n",
      "Total params: 228,698\n",
      "Trainable params: 228,698\n",
      "Non-trainable params: 0\n",
      "_________________________________________________________________\n"
     ]
    }
   ],
   "source": [
    "model = Sequential()\n",
    "\n",
    "model.add(Conv2D(filters=16,kernel_size=3,padding=\"same\",activation=\"relu\",input_shape=(32,32,1)))\n",
    "model.add(MaxPooling2D(pool_size=2))\n",
    "\n",
    "model.add(Conv2D(filters=32,kernel_size=3,padding=\"same\",activation=\"relu\"))\n",
    "model.add(MaxPooling2D(pool_size=2))\n",
    "\n",
    "model.add(Conv2D(filters=64,kernel_size=3,padding=\"same\",activation=\"relu\"))\n",
    "model.add(MaxPooling2D(pool_size=2))\n",
    "\n",
    "model.add(Dropout(0.2))\n",
    "model.add(Flatten())\n",
    "\n",
    "model.add(Dense(200,activation='relu'))\n",
    "model.add(Dropout(0.5))\n",
    "\n",
    "model.add(Dense(2,activation='softmax'))\n",
    "\n",
    "model.summary()"
   ]
  },
  {
   "cell_type": "code",
   "execution_count": 58,
   "metadata": {},
   "outputs": [],
   "source": [
    "model.compile(loss=\"categorical_crossentropy\",optimizer='adam',metrics=['accuracy'])"
   ]
  },
  {
   "cell_type": "code",
   "execution_count": 59,
   "metadata": {},
   "outputs": [
    {
     "name": "stdout",
     "output_type": "stream",
     "text": [
      "Epoch 1/20\n",
      "22046/22046 [==============================] - 13s 611us/sample - loss: 0.5362 - acc: 0.7034\n",
      "Epoch 2/20\n",
      "22046/22046 [==============================] - 12s 547us/sample - loss: 0.2352 - acc: 0.9112\n",
      "Epoch 3/20\n",
      "22046/22046 [==============================] - 12s 538us/sample - loss: 0.1962 - acc: 0.9293\n",
      "Epoch 4/20\n",
      "22046/22046 [==============================] - 12s 549us/sample - loss: 0.1710 - acc: 0.9397\n",
      "Epoch 5/20\n",
      "22046/22046 [==============================] - 12s 552us/sample - loss: 0.1585 - acc: 0.9441\n",
      "Epoch 6/20\n",
      "22046/22046 [==============================] - 13s 604us/sample - loss: 0.1540 - acc: 0.9445\n",
      "Epoch 7/20\n",
      "22046/22046 [==============================] - 13s 601us/sample - loss: 0.1455 - acc: 0.9487\n",
      "Epoch 8/20\n",
      "22046/22046 [==============================] - 13s 578us/sample - loss: 0.1383 - acc: 0.9505\n",
      "Epoch 9/20\n",
      "22046/22046 [==============================] - 13s 578us/sample - loss: 0.1347 - acc: 0.9516\n",
      "Epoch 10/20\n",
      "22046/22046 [==============================] - 12s 565us/sample - loss: 0.1307 - acc: 0.9530\n",
      "Epoch 11/20\n",
      "22046/22046 [==============================] - 12s 559us/sample - loss: 0.1213 - acc: 0.9559\n",
      "Epoch 12/20\n",
      "22046/22046 [==============================] - 12s 561us/sample - loss: 0.1160 - acc: 0.9573\n",
      "Epoch 13/20\n",
      "22046/22046 [==============================] - 13s 571us/sample - loss: 0.1142 - acc: 0.9578\n",
      "Epoch 14/20\n",
      "22046/22046 [==============================] - 13s 569us/sample - loss: 0.1053 - acc: 0.9619\n",
      "Epoch 15/20\n",
      "22046/22046 [==============================] - 13s 571us/sample - loss: 0.0998 - acc: 0.9639\n",
      "Epoch 16/20\n",
      "22046/22046 [==============================] - 13s 570us/sample - loss: 0.0943 - acc: 0.9658\n",
      "Epoch 17/20\n",
      "22046/22046 [==============================] - 14s 646us/sample - loss: 0.0875 - acc: 0.9695\n",
      "Epoch 18/20\n",
      "22046/22046 [==============================] - 13s 595us/sample - loss: 0.0798 - acc: 0.9704\n",
      "Epoch 19/20\n",
      "22046/22046 [==============================] - 13s 576us/sample - loss: 0.0775 - acc: 0.9728\n",
      "Epoch 20/20\n",
      "22046/22046 [==============================] - 13s 575us/sample - loss: 0.0729 - acc: 0.9730\n"
     ]
    },
    {
     "data": {
      "text/plain": [
       "<tensorflow.python.keras.callbacks.History at 0x7fcb4024f400>"
      ]
     },
     "execution_count": 59,
     "metadata": {},
     "output_type": "execute_result"
    }
   ],
   "source": [
    "model.fit(X_train,y_train,batch_size=50,epochs=20,verbose=1)"
   ]
  },
  {
   "cell_type": "markdown",
   "metadata": {},
   "source": [
    "## Testing"
   ]
  },
  {
   "cell_type": "code",
   "execution_count": 60,
   "metadata": {},
   "outputs": [
    {
     "name": "stdout",
     "output_type": "stream",
     "text": [
      "5512/5512 [==============================] - 1s 186us/sample - loss: 0.1643 - acc: 0.9461\n"
     ]
    }
   ],
   "source": [
    "predictions = model.evaluate(X_test,y_test)"
   ]
  },
  {
   "cell_type": "code",
   "execution_count": null,
   "metadata": {},
   "outputs": [],
   "source": []
  }
 ],
 "metadata": {
  "kernelspec": {
   "display_name": "Python 3",
   "language": "python",
   "name": "python3"
  },
  "language_info": {
   "codemirror_mode": {
    "name": "ipython",
    "version": 3
   },
   "file_extension": ".py",
   "mimetype": "text/x-python",
   "name": "python",
   "nbconvert_exporter": "python",
   "pygments_lexer": "ipython3",
   "version": "3.6.9"
  }
 },
 "nbformat": 4,
 "nbformat_minor": 4
}
