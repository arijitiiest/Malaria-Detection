{
 "cells": [
  {
   "cell_type": "markdown",
   "metadata": {},
   "source": [
    "# Malaria Detection"
   ]
  },
  {
   "cell_type": "markdown",
   "metadata": {},
   "source": [
    "## Import"
   ]
  },
  {
   "cell_type": "code",
   "execution_count": 1,
   "metadata": {},
   "outputs": [],
   "source": [
    "import os\n",
    "import cv2\n",
    "import copy\n",
    "import csv\n",
    "import random\n",
    "import pickle\n",
    "import numpy as np\n",
    "import pandas as pd\n",
    "import itertools\n",
    "from scipy.stats import randint\n",
    "from itertools import cycle\n",
    "import matplotlib.pyplot as plt\n",
    "from matplotlib.pyplot import figure"
   ]
  },
  {
   "cell_type": "code",
   "execution_count": 2,
   "metadata": {},
   "outputs": [],
   "source": [
    "from sklearn import preprocessing\n",
    "from sklearn.manifold import TSNE\n",
    "from sklearn.decomposition import TruncatedSVD\n",
    "from sklearn import metrics\n",
    "from sklearn.model_selection import train_test_split\n",
    "from sklearn import preprocessing\n",
    "from scipy.sparse import csr_matrix\n",
    "from scipy import stats\n",
    "from my_ml_lib import DataManipulationTools, MetricTools, PlotTools\n",
    "from sklearn.model_selection import GridSearchCV\n",
    "from sklearn.model_selection import RandomizedSearchCV"
   ]
  },
  {
   "cell_type": "code",
   "execution_count": 3,
   "metadata": {},
   "outputs": [],
   "source": [
    "# Import different classifiers\n",
    "from sklearn import svm\n",
    "from sklearn.neural_network import MLPClassifier\n",
    "from xgboost import XGBClassifier\n",
    "from sklearn.naive_bayes import GaussianNB\n",
    "from sklearn.neighbors import KNeighborsClassifier\n",
    "from sklearn.ensemble import BaggingClassifier, RandomForestClassifier, AdaBoostClassifier\n",
    "from sklearn.discriminant_analysis import LinearDiscriminantAnalysis as LDA\n",
    "from sklearn.decomposition import PCA\n",
    "from skimage.feature import hog, local_binary_pattern, greycomatrix, greycoprops"
   ]
  },
  {
   "cell_type": "markdown",
   "metadata": {},
   "source": [
    "## Functions"
   ]
  },
  {
   "cell_type": "markdown",
   "metadata": {},
   "source": [
    "## Read dataset:"
   ]
  },
  {
   "cell_type": "code",
   "execution_count": 4,
   "metadata": {},
   "outputs": [],
   "source": [
    "def read_images(path):\n",
    "    images = []\n",
    "    labels = []\n",
    "    num1 = 32\n",
    "    num2 = 32\n",
    "    for file_name in os.listdir(path):\n",
    "        file_path = path + '/' + file_name\n",
    "        for img_name in os.listdir(file_path):\n",
    "            if not img_name.startswith('.'):\n",
    "                if img_name.endswith('.png'):\n",
    "                    img = cv2.imread(file_path + '/' + img_name)\n",
    "                    new_img = cv2.resize(img, (num2, num1))\n",
    "                    images.append(new_img)\n",
    "                    if file_name == 'Parasitized':\n",
    "                        label = 0\n",
    "                    else:\n",
    "                        label = 1\n",
    "                    labels.append(label)\n",
    "    \n",
    "    return np.array(images), np.array(labels)"
   ]
  },
  {
   "cell_type": "markdown",
   "metadata": {},
   "source": [
    "## Save / Load Extracted Features:"
   ]
  },
  {
   "cell_type": "code",
   "execution_count": 5,
   "metadata": {},
   "outputs": [],
   "source": [
    "def save_feature(feature, name):\n",
    "    # saving all our feature vectors in pickled file\n",
    "    with open('cache/' + name + '.pkl', 'wb') as fp:\n",
    "        pickle.dump(csr_matrix(feature), fp)\n",
    "    \n",
    "    print(f'Feature saved with name cache/{name}.pkl')\n",
    "\n",
    "def load_feature(feature_name):\n",
    "    return pickle.load(open(feature_name, 'rb')).A"
   ]
  },
  {
   "cell_type": "markdown",
   "metadata": {},
   "source": [
    "## Save / Load Trained Model:"
   ]
  },
  {
   "cell_type": "code",
   "execution_count": 6,
   "metadata": {},
   "outputs": [],
   "source": [
    "def save_model(model):\n",
    "    filename = input('Enter model file name:')\n",
    "    pickle.dump(model, open('models/'+filename + '.pkl', 'wb'))\n",
    "    print(f'Successfully saved model in models/{filename}.pkl')\n",
    "\n",
    "def load_model(model_name):\n",
    "    return pickle.load(open(model_name, 'rb'))"
   ]
  },
  {
   "cell_type": "markdown",
   "metadata": {},
   "source": [
    "## Features:"
   ]
  },
  {
   "cell_type": "markdown",
   "metadata": {},
   "source": [
    "### Histogram of oriented gradients (HOG) based Features:"
   ]
  },
  {
   "cell_type": "code",
   "execution_count": 7,
   "metadata": {},
   "outputs": [],
   "source": [
    "# def get_hog(images, name='hog', save=False):\n",
    "#     result = np.array([hog(img, block_norm='L2') for img in images])\n",
    "    \n",
    "#     if save:\n",
    "#         save_feature(result, name)\n",
    "        \n",
    "#     return result"
   ]
  },
  {
   "cell_type": "code",
   "execution_count": 8,
   "metadata": {},
   "outputs": [],
   "source": [
    "def get_hog(images, name='hog', save=False):\n",
    "    # HOG Feature Extraction\n",
    "    cell_size = (4, 4)    # h x w in pixels\n",
    "    block_size = (2, 2)     # h x w in cells\n",
    "    nbins = 9\n",
    "    \n",
    "    # winSize is the size of the image cropped to an multiple of the cell size\n",
    "    # cell_size is the size of the cells of the img patch over which to calculate the histograms\n",
    "    # block_size is the number of cells which fit in the patch\n",
    "    hog_desc = cv2.HOGDescriptor(_winSize=(images[0].shape[1] // cell_size[1] * cell_size[1],\n",
    "                                              images[0].shape[0] // cell_size[0] * cell_size[0]),\n",
    "                                    _blockSize=(block_size[1] * cell_size[1],\n",
    "                                                block_size[0] * cell_size[0]),\n",
    "                                    _blockStride=(cell_size[1], cell_size[0]),\n",
    "                                    _cellSize=(cell_size[1], cell_size[0]),\n",
    "                                    _nbins=nbins)\n",
    "    \n",
    "    def get_image_hog(image):\n",
    "        # HOG feature\n",
    "        f = hog_desc.compute(image)\n",
    "        \n",
    "        res = np.array(f)\n",
    "        return res.flatten()\n",
    "    \n",
    "    # HOG for all images\n",
    "    features = []\n",
    "    for i, img in enumerate(images):\n",
    "        f = get_image_hog(cv2.cvtColor(img, cv2.COLOR_RGB2GRAY))\n",
    "        features.append(f)\n",
    "    \n",
    "    result = np.array(features)\n",
    "    \n",
    "    if save:\n",
    "        save_feature(result, name)\n",
    "    \n",
    "    return result"
   ]
  },
  {
   "cell_type": "markdown",
   "metadata": {},
   "source": [
    "### Gabor based Features:"
   ]
  },
  {
   "cell_type": "code",
   "execution_count": 9,
   "metadata": {},
   "outputs": [],
   "source": [
    "def get_gabor(images, name=\"gabor\", save=False):\n",
    "    \n",
    "    # Gabor filter banks with different orientations and at different scales\n",
    "    filters = []\n",
    "    ksize = 9\n",
    "    sigma = 0.1\n",
    "    gamma = 0.5\n",
    "    phi = 0\n",
    "    \n",
    "    # define the range for theta and nu\n",
    "    for theta in np.arange(0, np.pi, np.pi / 8):\n",
    "        for nu in np.arange(0, 6*np.pi/4, np.pi / 4):\n",
    "            kern = cv2.getGaborKernel((ksize, ksize), sigma, theta, nu, gamma, phi, ktype=cv2.CV_32F)\n",
    "            kern /= 1.5*kern.sum()\n",
    "            filters.append(kern)\n",
    "    \n",
    "    # function to convolve the image with the filters\n",
    "    def process(img, filters):\n",
    "        accum = np.zeros_like(img)\n",
    "        for kern in filters:\n",
    "            fimg = cv2.filter2D(img, cv2.CV_8UC3, kern)\n",
    "            np.maximum(accum, fimg, accum)\n",
    "            return accum\n",
    "        \n",
    "    \n",
    "    def get_image_gabor(image):\n",
    "        # Local Binary Pattern\n",
    "        f = []\n",
    "\n",
    "        # calculating the local energy for each convolved image\n",
    "        for j in range(40):\n",
    "            res = process(cv2.cvtColor(image, cv2.COLOR_RGB2GRAY), filters[j])\n",
    "            res = np.array(res)\n",
    "            f.append(np.sum(np.multiply(res, res)))\n",
    "\n",
    "        # calculating the mean amplitude for each convolved image\n",
    "        for j in range(40):\n",
    "            res = process(cv2.cvtColor(image, cv2.COLOR_RGB2GRAY), filters[j])\n",
    "            res = np.array(res)\n",
    "            f.append(np.sum(abs(res)))\n",
    "        return f\n",
    "    \n",
    "    # Gabor descriptor for all images\n",
    "    features = []\n",
    "    for i, img in enumerate(images):\n",
    "        f = get_image_gabor(img)\n",
    "        features.append(f)\n",
    "    \n",
    "    result = np.array(features)\n",
    "    \n",
    "    if save:\n",
    "        save_feature(result, name)\n",
    "    \n",
    "    return result"
   ]
  },
  {
   "cell_type": "markdown",
   "metadata": {},
   "source": [
    "### KAZE based features:"
   ]
  },
  {
   "cell_type": "code",
   "execution_count": 10,
   "metadata": {},
   "outputs": [],
   "source": [
    "def get_kaze(images, name='kaze', save=False):\n",
    "    \n",
    "    # KAZE descriptor for 1 image\n",
    "    def get_image_kaze(image, vector_size=32):\n",
    "        algo = cv2.KAZE_create()\n",
    "        kps = algo.detect(image)\n",
    "        kps = sorted(kps, key=lambda x: -x.response)[:vector_size]\n",
    "        \n",
    "        # Making descriptor of same size\n",
    "        # Descriptor vector size is 64\n",
    "        needed_size = (vector_size * 64)\n",
    "        if len(kps) == 0:\n",
    "            return np.zeros(needed_size)\n",
    "        \n",
    "        kps, dsc = algo.compute(image, kps)\n",
    "        dsc = dsc.flatten()\n",
    "        \n",
    "        if dsc.size < needed_size:\n",
    "            # if we have less than 32 descriptors then just adding zeros at the\n",
    "            # end of our feature vector\n",
    "            dsc = np.concatenate([dsc, np.zeros(needed_size - dsc.size)])\n",
    "        return dsc\n",
    "    \n",
    "    # KAZE descriptor for all images\n",
    "    features = []\n",
    "    for i, img in enumerate(images):\n",
    "        dsc = get_image_kaze(img)\n",
    "        features.append(dsc)\n",
    "    \n",
    "    result = np.array(features)\n",
    "    \n",
    "    if save:\n",
    "        save_feature(result, name)\n",
    "        \n",
    "    return result"
   ]
  },
  {
   "cell_type": "markdown",
   "metadata": {},
   "source": [
    "### Scale-invariant feature transform (SIFT) based Features:"
   ]
  },
  {
   "cell_type": "code",
   "execution_count": 11,
   "metadata": {},
   "outputs": [],
   "source": [
    "def get_sift(images, name='sift', save=False):\n",
    "    \n",
    "    # SIFT descriptor for 1 image\n",
    "    def get_image_sift(image, vector_size=15):\n",
    "        alg = cv2.xfeatures2d.SIFT_create()\n",
    "        kps = alg.detect(image, None)\n",
    "        kps = sorted(kps, key=lambda x: -x.response)[:vector_size]\n",
    "        \n",
    "        # Making descriptor of same size\n",
    "        # Descriptor vector size is 128\n",
    "        needed_size = (vector_size * 128)\n",
    "        if len(kps) == 0:\n",
    "            return np.zeros(needed_size)\n",
    "        \n",
    "        kps, dsc = alg.compute(image, kps)\n",
    "        dsc = dsc.flatten()\n",
    "        if dsc.size < needed_size:\n",
    "            # if we have less than 32 descriptors then just adding zeros at the\n",
    "            # end of our feature vector\n",
    "            dsc = np.concatenate([dsc, np.zeros(needed_size - dsc.size)])\n",
    "            \n",
    "        return dsc\n",
    "    \n",
    "    # SIFT descriptor for all images\n",
    "    features = []\n",
    "    for i, img in enumerate(images):\n",
    "        dsc = get_image_sift(img)\n",
    "        features.append(dsc)\n",
    "\n",
    "    result = np.array(features)\n",
    "    \n",
    "    if save:\n",
    "        save_feature(result, name)\n",
    "        \n",
    "    return result\n"
   ]
  },
  {
   "cell_type": "code",
   "execution_count": 12,
   "metadata": {},
   "outputs": [],
   "source": [
    "def return_sift_kp(image):\n",
    "    alg = cv2.xfeatures2d.SIFT_create()\n",
    "    kps = alg.detect(image, None)\n",
    "    kps = sorted(kps, key=lambda x: -x.response)[:15]\n",
    "\n",
    "    # Making descriptor of same size\n",
    "    # Descriptor vector size is 128\n",
    "    needed_size = (15 * 128)\n",
    "    if len(kps) == 0:\n",
    "        dsc = np.zeros(needed_size)\n",
    "    else:\n",
    "        kps, dsc = alg.compute(image, kps)\n",
    "        dsc = dsc.flatten()\n",
    "        if dsc.size < needed_size:\n",
    "            # if we have less than 32 descriptors then just adding zeros at the\n",
    "            # end of our feature vector\n",
    "            dsc = np.concatenate([dsc, np.zeros(needed_size - dsc.size)])\n",
    "    return kps"
   ]
  },
  {
   "cell_type": "markdown",
   "metadata": {},
   "source": [
    "### Speeded-up robust features (SURF) based Features:"
   ]
  },
  {
   "cell_type": "code",
   "execution_count": 13,
   "metadata": {},
   "outputs": [],
   "source": [
    "def get_surf(images, name='surf', save=False):\n",
    "    # SURF descriptor for 1 image\n",
    "    def get_image_surf(image, vector_size=4):\n",
    "        alg = cv2.xfeatures2d.SURF_create()\n",
    "        kps = alg.detect(image, None)\n",
    "        kps = sorted(kps, key=lambda x: -x.response)[:vector_size]\n",
    "        \n",
    "        # Making descriptor of same size\n",
    "        # Descriptor vector size is 64\n",
    "        needed_size = (vector_size * 64)\n",
    "        if len(kps) == 0:\n",
    "            return np.zeros(needed_size)\n",
    "        \n",
    "        kps, dsc = alg.compute(image, kps)\n",
    "        dsc = dsc.flatten()\n",
    "        if dsc.size < needed_size:\n",
    "            # if we have less than 32 descriptors then just adding zeros at the\n",
    "            # end of our feature vector\n",
    "            dsc = np.concatenate([dsc, np.zeros(needed_size - dsc.size)])\n",
    "            \n",
    "        return dsc\n",
    "    \n",
    "    # SURF descriptor for all images\n",
    "    features = []\n",
    "    for i, img in enumerate(images):\n",
    "        dsc = get_image_surf(img)\n",
    "        features.append(dsc)\n",
    "    \n",
    "    result = np.array(features)\n",
    "    \n",
    "    if save:\n",
    "        save_feature(result, name)\n",
    "        \n",
    "    return result"
   ]
  },
  {
   "cell_type": "code",
   "execution_count": 14,
   "metadata": {},
   "outputs": [],
   "source": [
    "def return_surf_kp(image):\n",
    "    alg = cv2.xfeatures2d.SURF_create()\n",
    "    kps = alg.detect(image, None)\n",
    "    kps = sorted(kps, key=lambda x: -x.response)[:4]\n",
    "\n",
    "    # Making descriptor of same size\n",
    "    # Descriptor vector size is 64\n",
    "    needed_size = (15 * 64)\n",
    "    if len(kps) == 0:\n",
    "        dsc = np.zeros(needed_size)\n",
    "    else:\n",
    "        kps, dsc = alg.compute(image, kps)\n",
    "        dsc = dsc.flatten()\n",
    "        if dsc.size < needed_size:\n",
    "            # if we have less than 32 descriptors then just adding zeros at the\n",
    "            # end of our feature vector\n",
    "            dsc = np.concatenate([dsc, np.zeros(needed_size - dsc.size)])\n",
    "    return kps"
   ]
  },
  {
   "cell_type": "markdown",
   "metadata": {},
   "source": [
    "### Local-Binary-Pattern (LBP) based Features:"
   ]
  },
  {
   "cell_type": "code",
   "execution_count": 15,
   "metadata": {},
   "outputs": [],
   "source": [
    "def get_lbp(images, name='lbp', save=False):\n",
    "    result = np.array([local_binary_pattern(cv2.cvtColor(img, cv2.COLOR_RGB2GRAY), 10, 3).flatten() for img in images])\n",
    "    \n",
    "    if save:\n",
    "        save_feature(result, name)\n",
    "        \n",
    "    return result"
   ]
  },
  {
   "cell_type": "markdown",
   "metadata": {},
   "source": [
    "### Gray Level Co-occurrence Matrix (GLCM) based Features:"
   ]
  },
  {
   "cell_type": "code",
   "execution_count": 16,
   "metadata": {},
   "outputs": [],
   "source": [
    "def get_glcm(images, name='glcm', save=False):\n",
    "    \n",
    "    # GLCM feature for 1 image\n",
    "    def get_image_glcm(img):\n",
    "        image = cv2.cvtColor(img, cv2.COLOR_RGB2GRAY)\n",
    "        \n",
    "        # GLCM Feature Extraction\n",
    "        Grauwertmatrix = greycomatrix(image, [1, 2, 3], [0, np.pi / 4, np.pi / 2, 3 * np.pi / 4],\n",
    "                                                  symmetric=False, normed=True)\n",
    "        \n",
    "        contrast = greycoprops(Grauwertmatrix, 'contrast')\n",
    "        dissimilarity = greycoprops(Grauwertmatrix, 'dissimilarity')\n",
    "        homogeneity = greycoprops(Grauwertmatrix, 'homogeneity')\n",
    "        energy = greycoprops(Grauwertmatrix, 'energy')\n",
    "        correlation = greycoprops(Grauwertmatrix, 'correlation')\n",
    "        ASM = greycoprops(Grauwertmatrix, 'ASM')\n",
    "        \n",
    "        # Merge all the features\n",
    "        f = np.array([contrast, dissimilarity, homogeneity, energy, correlation, ASM])\n",
    "        return f.flatten()\n",
    "    \n",
    "    \n",
    "    # GLCM descriptor for all images\n",
    "    features = []\n",
    "    for i, img in enumerate(images):\n",
    "        dsc = get_image_glcm(img)\n",
    "        features.append(dsc)\n",
    "    \n",
    "    result = np.array(features)\n",
    "    \n",
    "    if save:\n",
    "        save_feature(result, name)\n",
    "        \n",
    "    return result"
   ]
  },
  {
   "cell_type": "markdown",
   "metadata": {},
   "source": [
    "### Flattened Image:"
   ]
  },
  {
   "cell_type": "code",
   "execution_count": 17,
   "metadata": {},
   "outputs": [],
   "source": [
    "def get_flattened(images, color=cv2.COLOR_RGB2GRAY, name='flattened', save=False):\n",
    "    \"\"\"\n",
    "    color: default RGB2GRAY, if None is passed then color is used as it is.\n",
    "    \"\"\"\n",
    "    color_images = []\n",
    "    if color is not None:\n",
    "        for img in images:\n",
    "            color_images.append(cv2.cvtColor(img, color))\n",
    "    else:\n",
    "        color_images = images\n",
    "    \n",
    "    count = len(color_images)\n",
    "    \n",
    "    result = np.array(color_images).reshape(count, -1)\n",
    "    \n",
    "    if save:\n",
    "        save_feature(result, name)\n",
    "        \n",
    "    return result"
   ]
  },
  {
   "cell_type": "markdown",
   "metadata": {},
   "source": [
    "### Color Histograms:"
   ]
  },
  {
   "cell_type": "code",
   "execution_count": 18,
   "metadata": {},
   "outputs": [],
   "source": [
    "def get_color_hist(images, name='color_hist', save=False):\n",
    "    histograms = []\n",
    "    for img in images:\n",
    "        histograms.append(cv2.calcHist([img], [0, 1, 2],None, [8, 8, 8], [0, 256, 0, 256, 0, 256]).flatten())\n",
    "    \n",
    "    result = np.array(histograms)\n",
    "    \n",
    "    if save:\n",
    "        save_feature(result, name)\n",
    "        \n",
    "    return result"
   ]
  },
  {
   "cell_type": "markdown",
   "metadata": {},
   "source": [
    "### Combine Features:"
   ]
  },
  {
   "cell_type": "code",
   "execution_count": 19,
   "metadata": {},
   "outputs": [],
   "source": [
    "def combine_features(features, horizontal=True):\n",
    "    \"\"\"\n",
    "    Array of features [f1, f2, f3] where each fi is a feature set \n",
    "    eg. f1=rgb_flat, f2=SIFT, etc.\n",
    "    \"\"\"\n",
    "    if horizontal:\n",
    "        return np.hstack(features)\n",
    "    else:\n",
    "        return np.vstack(features)"
   ]
  },
  {
   "cell_type": "markdown",
   "metadata": {},
   "source": [
    "### Normalize features:"
   ]
  },
  {
   "cell_type": "code",
   "execution_count": 20,
   "metadata": {},
   "outputs": [],
   "source": [
    "def norm_features_minmax(train, test):\n",
    "    min_max_scaler = preprocessing.MinMaxScaler()\n",
    "    norm_train = min_max_scaler.fit_transform(train)\n",
    "    norm_test = min_max_scaler.transform(test)\n",
    "    \n",
    "    return norm_train, norm_test"
   ]
  },
  {
   "cell_type": "code",
   "execution_count": 21,
   "metadata": {},
   "outputs": [],
   "source": [
    "def norm_features_zscore(train, test):\n",
    "    min_max_scaler = preprocessing.StandardScaler()\n",
    "    norm_train = min_max_scaler.fit_transform(train)\n",
    "    norm_test = min_max_scaler.transform(test)\n",
    "    \n",
    "    return norm_train, norm_test"
   ]
  },
  {
   "cell_type": "markdown",
   "metadata": {},
   "source": [
    "## Classifiers:"
   ]
  },
  {
   "cell_type": "code",
   "execution_count": 22,
   "metadata": {},
   "outputs": [],
   "source": [
    "def train_model(train_x, train_y, model_name='NB', validation=None):\n",
    "    \"\"\"\n",
    "    Possible model names: ['NB', 'SVM', 'XGB', 'MLP', 'ADA', 'BAG', 'RF']\n",
    "    default = 'NB'\n",
    "    \n",
    "    validation: (val_x, val_y) tupple for validation accuracy score.\n",
    "    \n",
    "    return: trained model\n",
    "    \"\"\"\n",
    "    model = None\n",
    "    if model_name == 'SVM':\n",
    "        model = svm.SVC(gamma='scale', probability=True)\n",
    "    elif model_name == 'XGB':\n",
    "        model = XGBClassifier(n_estimators=200, max_depth=5, n_jobs=2)\n",
    "#         model = XGBClassifier()\n",
    "    elif model_name == 'MLP':\n",
    "        model = MLPClassifier(hidden_layer_sizes=(100,100,100), max_iter=800, alpha=0.0001,\n",
    "                     solver='sgd', verbose=10, tol=0.000000001)\n",
    "    elif model_name == 'ADA':\n",
    "        model = AdaBoostClassifier(n_estimators=50)\n",
    "    elif model_name == 'BAG':\n",
    "        model = BaggingClassifier(n_jobs=2, n_estimators=50)\n",
    "    elif model_name == 'RF':\n",
    "        model = RandomForestClassifier(n_estimators=200, max_depth=10)\n",
    "    elif model_name == 'KNN':\n",
    "        model = KNeighborsClassifier(n_neighbors=5, weights='distance', algorithm='auto', leaf_size=30, p=2, metric='minkowski', metric_params=None, n_jobs=None)\n",
    "    else:\n",
    "        model = GaussianNB()\n",
    "    \n",
    "    model.fit(train_x, train_y)\n",
    "    \n",
    "    if validation is not None:\n",
    "        y_hat = model.predict(validation[0])\n",
    "        acc = metrics.accuracy_score(validation[1], y_hat)\n",
    "        print(f\"Validation Accuracy in '{model_name}' = {acc}\")\n",
    "        cm = metrics.confusion_matrix(validation[1], y_hat)\n",
    "        print(cm)\n",
    "        recall = cm[0][0] / (cm[0][0] + cm[0][1])\n",
    "        precision = cm[0][0] / (cm[0][0] + cm[1][0])\n",
    "        f1 = 2*(precision*recall)/(precision+recall)\n",
    "        print(f\"Recall in '{model_name}' = {recall}\")\n",
    "        print(f\"Precision in '{model_name}' = {precision}\")\n",
    "        print(f\"F1 Score in '{model_name}' = {f1}\")\n",
    "               \n",
    "    return model"
   ]
  },
  {
   "cell_type": "markdown",
   "metadata": {},
   "source": [
    "### ROC"
   ]
  },
  {
   "cell_type": "code",
   "execution_count": 23,
   "metadata": {},
   "outputs": [],
   "source": [
    "def plot_roc(fpr, tpr, class_name, area):\n",
    "    figure(num=None, figsize=(12, 6), dpi=80, facecolor='w', edgecolor='k')\n",
    "    \n",
    "    plt.plot(fpr,tpr)\n",
    "\n",
    "    plt.xlabel('False Positive Rate')\n",
    "    plt.ylabel('True Positive Rate')\n",
    "\n",
    "    plt.show()"
   ]
  },
  {
   "cell_type": "code",
   "execution_count": 24,
   "metadata": {},
   "outputs": [],
   "source": [
    "def plot_combine_roc(test_y, prob):\n",
    "    n_classes = 7\n",
    "    name_arr = ['RF', 'BAG', 'ADA', 'NB', 'SVM', 'XGB', 'KNN']\n",
    "    fpr = dict()\n",
    "    tpr = dict()\n",
    "    roc_auc = dict()\n",
    "    for i in range(n_classes):\n",
    "        fpr[i], tpr[i], _ = metrics.roc_curve(test_y, prob[:, i])\n",
    "        roc_auc[i] = metrics.roc_auc_score(test_y,  prob[:, i])\n",
    "\n",
    "    figure(num=None, figsize=(12, 6), dpi=80, facecolor='w', edgecolor='k')\n",
    "    colors = cycle(['darkorange', 'cornflowerblue', 'red', 'purple', 'pink', 'violet', 'green'])\n",
    "    for i, color in zip(range(n_classes), colors):\n",
    "        plt.plot(fpr[i], tpr[i], color=color,\n",
    "                 label='ROC curve for ' + name_arr[i] + ' class (area = {1:0.2f})'\n",
    "                 ''.format(i, roc_auc[i]))\n",
    "\n",
    "    plt.xlabel('False Positive Rate')\n",
    "    plt.ylabel('True Positive Rate')\n",
    "    plt.legend()\n",
    "#     plt.savefig('output/roc_lda_on_pca_uninfected.png')\n",
    "    plt.show()"
   ]
  },
  {
   "cell_type": "markdown",
   "metadata": {},
   "source": [
    "### CM"
   ]
  },
  {
   "cell_type": "code",
   "execution_count": 25,
   "metadata": {},
   "outputs": [],
   "source": [
    "def confusion_mat(cm, classes, title='Confusion matrix', cmap=plt.cm.Blues, figsize=(7,7), path=None, filename=None):\n",
    "        \"\"\"\n",
    "        cm: confusion matrix to be plotted.\n",
    "        classes: array of labels or class names.\n",
    "        title: title of the confusion matrix.\n",
    "        cmap: color of the plot matrix.\n",
    "        figsize: tupple (width, height) representiong size of the plot.\n",
    "        path: destination where the plot image will be saved.\n",
    "        filename: name to save the file with on the specified path. (if None, title is used)\n",
    "        \n",
    "        # Source: https://scikit-learn.org/stable/auto_examples/model_selection/plot_confusion_matrix.html\n",
    "        \"\"\"\n",
    "        cm = cm.astype(np.int64)\n",
    "        plt.figure(figsize=figsize)\n",
    "        plt.imshow(cm, interpolation='nearest', cmap=cmap)\n",
    "        plt.title(title)\n",
    "        plt.colorbar()\n",
    "        tick_marks = np.arange(len(classes))\n",
    "        plt.xticks(tick_marks, classes, rotation=45)\n",
    "        plt.yticks(tick_marks, classes)\n",
    "\n",
    "        fmt = 'd'\n",
    "        thresh = cm.max() / 2.\n",
    "        for i, j in itertools.product(range(cm.shape[0]), range(cm.shape[1])):\n",
    "            plt.text(j, i, format(cm[i, j], fmt),\n",
    "                     horizontalalignment=\"center\",\n",
    "                     color=\"white\" if cm[i, j] > thresh else \"black\")\n",
    "        plt.grid(False)\n",
    "        plt.ylabel('True label')\n",
    "        plt.xlabel('Predicted label')\n",
    "        plt.tight_layout()\n",
    "        \n",
    "        if path:\n",
    "            if filename is None:\n",
    "                plt.savefig(path + title + '.png')\n",
    "            else:\n",
    "                plt.savefig(path + filename + '.png')\n",
    "        plt.show()"
   ]
  },
  {
   "cell_type": "markdown",
   "metadata": {},
   "source": [
    "### PCA projected data"
   ]
  },
  {
   "cell_type": "code",
   "execution_count": 26,
   "metadata": {},
   "outputs": [],
   "source": [
    "def pca_projection(mat, name_arr):\n",
    "    plt.figure(figsize=(15,30))\n",
    "    for i, img in enumerate(mat, start=1):\n",
    "        plt.subplot(5, 2, i)\n",
    "        y = np.var(mat[i-1], axis=0)\n",
    "        x = list(range(1, len(y)+1))\n",
    "        plt.plot(x, y, '--o')\n",
    "        plt.ylabel('Variance')\n",
    "        plt.xlabel('Data Projected on Eigen Vector Number')\n",
    "        plt.xticks(x)\n",
    "        plt.title(name_arr[i-1])\n",
    "    plt.savefig('output/pca/subplot.jpg')\n",
    "    plt.show()"
   ]
  },
  {
   "cell_type": "code",
   "execution_count": 27,
   "metadata": {},
   "outputs": [],
   "source": [
    "def draw_key_points(image, kp):\n",
    "    img = cv2.drawKeypoints(image, kp, None, flags=cv2.DRAW_MATCHES_FLAGS_DRAW_RICH_KEYPOINTS)\n",
    "    return img"
   ]
  },
  {
   "cell_type": "markdown",
   "metadata": {},
   "source": [
    "## Main cells"
   ]
  },
  {
   "cell_type": "markdown",
   "metadata": {},
   "source": [
    "## Read and split data"
   ]
  },
  {
   "cell_type": "markdown",
   "metadata": {},
   "source": [
    "### Read and Store"
   ]
  },
  {
   "cell_type": "code",
   "execution_count": 27,
   "metadata": {},
   "outputs": [],
   "source": [
    "full_data_x, full_data_y = read_images('cell_images')"
   ]
  },
  {
   "cell_type": "code",
   "execution_count": 28,
   "metadata": {},
   "outputs": [
    {
     "name": "stdout",
     "output_type": "stream",
     "text": [
      "dataset size :  (27558, 32, 32, 3) (27558,)\n"
     ]
    }
   ],
   "source": [
    "print(\"dataset size : \", full_data_x.shape, full_data_y.shape)"
   ]
  },
  {
   "cell_type": "code",
   "execution_count": 29,
   "metadata": {},
   "outputs": [
    {
     "name": "stdout",
     "output_type": "stream",
     "text": [
      "One Image size:  (32, 32, 3)\n"
     ]
    }
   ],
   "source": [
    "print(\"One Image size: \", full_data_x[2].shape)"
   ]
  },
  {
   "cell_type": "code",
   "execution_count": 30,
   "metadata": {},
   "outputs": [],
   "source": [
    "data_x, test_x, data_y, test_y = train_test_split(full_data_x, full_data_y, test_size=0.2)"
   ]
  },
  {
   "cell_type": "code",
   "execution_count": 31,
   "metadata": {},
   "outputs": [],
   "source": [
    "train_imgs, val_imgs, train_y, val_y = train_test_split(data_x, data_y, test_size=0.2)"
   ]
  },
  {
   "cell_type": "code",
   "execution_count": 32,
   "metadata": {},
   "outputs": [
    {
     "name": "stdout",
     "output_type": "stream",
     "text": [
      "Train data : (17636, 32, 32, 3)        Label:  (17636,)\n",
      "Validation data : (4410, 32, 32, 3)    Label:  (4410,)\n",
      "Test data : (5512, 32, 32, 3)          Label:  (5512,)\n"
     ]
    }
   ],
   "source": [
    "print(\"Train data :\", train_imgs.shape, \"       Label: \", train_y.shape) \n",
    "print(\"Validation data :\", val_imgs.shape, \"   Label: \", val_y.shape) \n",
    "print(\"Test data :\", test_x.shape, \"         Label: \", test_y.shape) "
   ]
  },
  {
   "cell_type": "markdown",
   "metadata": {},
   "source": [
    "### Save train, validation, test data"
   ]
  },
  {
   "cell_type": "code",
   "execution_count": 33,
   "metadata": {},
   "outputs": [],
   "source": [
    "np.save('data/train_imgs.npy', train_imgs)\n",
    "np.save('data/train_y.npy', train_y)\n",
    "np.save('data/val_imgs.npy', val_imgs)\n",
    "np.save('data/val_y.npy', val_y)\n",
    "\n",
    "np.save('data/data_x.npy', data_x)\n",
    "np.save('data/data_y.npy', data_y)\n",
    "np.save('data/test_x.npy', test_x)\n",
    "np.save('data/test_y.npy', test_y)"
   ]
  },
  {
   "cell_type": "markdown",
   "metadata": {},
   "source": [
    "### Load "
   ]
  },
  {
   "cell_type": "code",
   "execution_count": 28,
   "metadata": {},
   "outputs": [],
   "source": [
    "train_imgs = np.load('data/train_imgs.npy')\n",
    "train_y = np.load('data/train_y.npy')\n",
    "val_imgs = np.load('data/val_imgs.npy')\n",
    "val_y = np.load('data/val_y.npy')\n",
    "\n",
    "data_x = np.load('data/data_x.npy')\n",
    "data_y = np.load('data/data_y.npy')\n",
    "test_x = np.load('data/test_x.npy')\n",
    "test_y = np.load('data/test_y.npy')"
   ]
  },
  {
   "cell_type": "code",
   "execution_count": 29,
   "metadata": {},
   "outputs": [
    {
     "data": {
      "text/plain": [
       "((22046, 32, 32, 3), (5512, 32, 32, 3), (22046,), (5512,))"
      ]
     },
     "execution_count": 29,
     "metadata": {},
     "output_type": "execute_result"
    }
   ],
   "source": [
    "data_x.shape, test_x.shape, data_y.shape, test_y.shape"
   ]
  },
  {
   "cell_type": "code",
   "execution_count": 30,
   "metadata": {},
   "outputs": [
    {
     "data": {
      "text/plain": [
       "((17636, 32, 32, 3), (4410, 32, 32, 3), (17636,), (4410,))"
      ]
     },
     "execution_count": 30,
     "metadata": {},
     "output_type": "execute_result"
    }
   ],
   "source": [
    "train_imgs.shape, val_imgs.shape, train_y.shape, val_y.shape"
   ]
  },
  {
   "cell_type": "markdown",
   "metadata": {},
   "source": [
    "## Training"
   ]
  },
  {
   "cell_type": "markdown",
   "metadata": {},
   "source": [
    "### Training & Validation set features:\n"
   ]
  },
  {
   "cell_type": "markdown",
   "metadata": {},
   "source": [
    "#### Data visualization:"
   ]
  },
  {
   "cell_type": "code",
   "execution_count": 37,
   "metadata": {},
   "outputs": [],
   "source": [
    "infected_img = train_imgs[train_y == 0][0]\n",
    "uninfected_img = train_imgs[train_y == 1][0]\n",
    "classes = []\n",
    "classes.append(infected_img)\n",
    "classes.append(uninfected_img)\n",
    "class_label= []\n",
    "class_label.append('infected image')\n",
    "class_label.append('uninfected image')"
   ]
  },
  {
   "cell_type": "code",
   "execution_count": 38,
   "metadata": {},
   "outputs": [],
   "source": [
    "hog_img = np.zeros((2, 32, 32))\n",
    "lbp_img = np.zeros((2, 32, 32))\n",
    "sift = np.zeros((2, 32, 32, 3), dtype='uint8')\n",
    "surf = np.zeros((2, 32, 32, 3), dtype='uint8')\n",
    "\n",
    "for i in range(2):\n",
    "    temp1, hog_img[i] = hog(classes[i], block_norm='L2', visualize=True)\n",
    "    lbp_img[i] = local_binary_pattern(cv2.cvtColor(classes[i], cv2.COLOR_RGB2GRAY), 10, 3)\n",
    "    sift[i] = draw_key_points(cv2.cvtColor(classes[i], cv2.COLOR_RGB2GRAY), return_sift_kp(classes[i]))\n",
    "    surf[i] = draw_key_points(cv2.cvtColor(classes[i], cv2.COLOR_RGB2GRAY), return_surf_kp(classes[i]))"
   ]
  },
  {
   "cell_type": "code",
   "execution_count": 39,
   "metadata": {},
   "outputs": [],
   "source": [
    "data_vis = []\n",
    "for i in range(len(classes)):\n",
    "    data_vis.append(classes[i])\n",
    "for i in range(len(classes)):\n",
    "    data_vis.append(hog_img[i])\n",
    "for i in range(len(classes)):\n",
    "    data_vis.append(lbp_img[i])\n",
    "for i in range(len(classes)):\n",
    "    data_vis.append(sift[i])\n",
    "for i in range(len(classes)):\n",
    "    data_vis.append(surf[i])\n",
    "\n",
    "img_name_arr = []\n",
    "for i in range(len(classes)):\n",
    "    img_name_arr.append(class_label[i])\n",
    "for i in range(len(classes)):\n",
    "    img_name_arr.append('HOG')\n",
    "for i in range(len(classes)):\n",
    "    img_name_arr.append('LBP')\n",
    "for i in range(len(classes)):\n",
    "    img_name_arr.append('SIFT')\n",
    "for i in range(len(classes)):\n",
    "    img_name_arr.append('SURF')"
   ]
  },
  {
   "cell_type": "code",
   "execution_count": 40,
   "metadata": {},
   "outputs": [
    {
     "data": {
      "image/png": "[encoded data removed]",
      "text/plain": [
       "<Figure size 288x720 with 10 Axes>"
      ]
     },
     "metadata": {},
     "output_type": "display_data"
    }
   ],
   "source": [
    "plt.figure(figsize=(4,10))\n",
    "for i, img in enumerate(data_vis, start=1):\n",
    "    plt.subplot(5, 2, i)\n",
    "    plt.title(img_name_arr[i-1])\n",
    "    frame1 = plt.gca()\n",
    "    for tick in frame1.axes.get_xticklines():\n",
    "        tick.set_visible(False)\n",
    "    for tick in frame1.axes.get_yticklines():\n",
    "        tick.set_visible(False)\n",
    "    for xlabel_i in frame1.axes.get_xticklabels():\n",
    "        xlabel_i.set_visible(False)\n",
    "    for xlabel_i in frame1.axes.get_yticklabels():\n",
    "        xlabel_i.set_visible(False)\n",
    "    plt.imshow(data_vis[i-1], cmap='gray')\n",
    "plt.savefig('output/feature_visualization.png')\n",
    "plt.show()\n"
   ]
  },
  {
   "cell_type": "markdown",
   "metadata": {},
   "source": [
    "### HOG features:"
   ]
  },
  {
   "cell_type": "code",
   "execution_count": 41,
   "metadata": {},
   "outputs": [
    {
     "name": "stdout",
     "output_type": "stream",
     "text": [
      "Feature saved with name cache/hog_train.pkl\n",
      "Feature saved with name cache/hog_val.pkl\n"
     ]
    }
   ],
   "source": [
    "hog_train = get_hog(train_imgs, name='hog_train', save=True)\n",
    "hog_val = get_hog(val_imgs, name='hog_val', save=True)"
   ]
  },
  {
   "cell_type": "code",
   "execution_count": 31,
   "metadata": {},
   "outputs": [],
   "source": [
    "hog_train = load_feature('cache/hog_train.pkl')\n",
    "hog_val = load_feature('cache/hog_val.pkl')"
   ]
  },
  {
   "cell_type": "code",
   "execution_count": 32,
   "metadata": {},
   "outputs": [
    {
     "data": {
      "text/plain": [
       "((17636, 1764), (4410, 1764))"
      ]
     },
     "execution_count": 32,
     "metadata": {},
     "output_type": "execute_result"
    }
   ],
   "source": [
    "hog_train.shape, hog_val.shape"
   ]
  },
  {
   "cell_type": "markdown",
   "metadata": {},
   "source": [
    "### LBP features:"
   ]
  },
  {
   "cell_type": "code",
   "execution_count": 44,
   "metadata": {},
   "outputs": [
    {
     "name": "stdout",
     "output_type": "stream",
     "text": [
      "Feature saved with name cache/lbp_train.pkl\n",
      "Feature saved with name cache/lbp_val.pkl\n"
     ]
    }
   ],
   "source": [
    "lbp_train = get_lbp(train_imgs, name='lbp_train', save=True)\n",
    "lbp_val = get_lbp(val_imgs, name='lbp_val', save=True)"
   ]
  },
  {
   "cell_type": "code",
   "execution_count": 33,
   "metadata": {},
   "outputs": [],
   "source": [
    "lbp_train = load_feature('cache/lbp_train.pkl')\n",
    "lbp_val = load_feature('cache/lbp_val.pkl')"
   ]
  },
  {
   "cell_type": "code",
   "execution_count": 34,
   "metadata": {},
   "outputs": [
    {
     "data": {
      "text/plain": [
       "((17636, 1024), (4410, 1024))"
      ]
     },
     "execution_count": 34,
     "metadata": {},
     "output_type": "execute_result"
    }
   ],
   "source": [
    "lbp_train.shape, lbp_val.shape"
   ]
  },
  {
   "cell_type": "markdown",
   "metadata": {},
   "source": [
    "### KAZE Features:"
   ]
  },
  {
   "cell_type": "code",
   "execution_count": 47,
   "metadata": {},
   "outputs": [
    {
     "name": "stdout",
     "output_type": "stream",
     "text": [
      "Feature saved with name cache/kaze_train.pkl\n",
      "Feature saved with name cache/kaze_val.pkl\n"
     ]
    }
   ],
   "source": [
    "kaze_train = get_kaze(train_imgs, name='kaze_train', save=True)\n",
    "kaze_val = get_kaze(val_imgs, name='kaze_val', save=True)"
   ]
  },
  {
   "cell_type": "code",
   "execution_count": 35,
   "metadata": {},
   "outputs": [],
   "source": [
    "kaze_train = load_feature('cache/kaze_train.pkl')\n",
    "kaze_val = load_feature('cache/kaze_val.pkl')"
   ]
  },
  {
   "cell_type": "code",
   "execution_count": 36,
   "metadata": {},
   "outputs": [
    {
     "data": {
      "text/plain": [
       "((17636, 2048), (4410, 2048))"
      ]
     },
     "execution_count": 36,
     "metadata": {},
     "output_type": "execute_result"
    }
   ],
   "source": [
    "kaze_train.shape, kaze_val.shape"
   ]
  },
  {
   "cell_type": "markdown",
   "metadata": {},
   "source": [
    "### SIFT Features:"
   ]
  },
  {
   "cell_type": "code",
   "execution_count": 50,
   "metadata": {},
   "outputs": [
    {
     "name": "stdout",
     "output_type": "stream",
     "text": [
      "Feature saved with name cache/sift_train.pkl\n",
      "Feature saved with name cache/sift_val.pkl\n"
     ]
    }
   ],
   "source": [
    "sift_train = get_sift(train_imgs, name='sift_train', save=True)\n",
    "sift_val = get_sift(val_imgs, name='sift_val', save=True)"
   ]
  },
  {
   "cell_type": "code",
   "execution_count": 37,
   "metadata": {},
   "outputs": [],
   "source": [
    "sift_train = load_feature('cache/sift_train.pkl')\n",
    "sift_val = load_feature('cache/sift_val.pkl')"
   ]
  },
  {
   "cell_type": "code",
   "execution_count": 38,
   "metadata": {},
   "outputs": [
    {
     "data": {
      "text/plain": [
       "((17636, 1920), (4410, 1920))"
      ]
     },
     "execution_count": 38,
     "metadata": {},
     "output_type": "execute_result"
    }
   ],
   "source": [
    "sift_train.shape, sift_val.shape"
   ]
  },
  {
   "cell_type": "markdown",
   "metadata": {},
   "source": [
    "### SURF Features:"
   ]
  },
  {
   "cell_type": "code",
   "execution_count": 53,
   "metadata": {},
   "outputs": [
    {
     "name": "stdout",
     "output_type": "stream",
     "text": [
      "Feature saved with name cache/surf_train.pkl\n",
      "Feature saved with name cache/surf_val.pkl\n"
     ]
    }
   ],
   "source": [
    "surf_train = get_surf(train_imgs, name='surf_train', save=True)\n",
    "surf_val = get_surf(val_imgs, name='surf_val', save=True)"
   ]
  },
  {
   "cell_type": "code",
   "execution_count": 39,
   "metadata": {},
   "outputs": [],
   "source": [
    "surf_train = load_feature('cache/surf_train.pkl')\n",
    "surf_val = load_feature('cache/surf_val.pkl')"
   ]
  },
  {
   "cell_type": "code",
   "execution_count": 40,
   "metadata": {},
   "outputs": [
    {
     "data": {
      "text/plain": [
       "((17636, 256), (4410, 256))"
      ]
     },
     "execution_count": 40,
     "metadata": {},
     "output_type": "execute_result"
    }
   ],
   "source": [
    "surf_train.shape, surf_val.shape"
   ]
  },
  {
   "cell_type": "markdown",
   "metadata": {},
   "source": [
    "### Gabor Features:"
   ]
  },
  {
   "cell_type": "code",
   "execution_count": 56,
   "metadata": {},
   "outputs": [
    {
     "name": "stdout",
     "output_type": "stream",
     "text": [
      "Feature saved with name cache/gabor_train.pkl\n",
      "Feature saved with name cache/gabor_val.pkl\n"
     ]
    }
   ],
   "source": [
    "gabor_train = get_gabor(train_imgs, name='gabor_train', save=True)\n",
    "gabor_val = get_gabor(val_imgs, name='gabor_val', save=True)"
   ]
  },
  {
   "cell_type": "code",
   "execution_count": 41,
   "metadata": {},
   "outputs": [],
   "source": [
    "gabor_train = load_feature('cache/gabor_train.pkl')\n",
    "gabor_val = load_feature('cache/gabor_val.pkl')"
   ]
  },
  {
   "cell_type": "code",
   "execution_count": 42,
   "metadata": {},
   "outputs": [
    {
     "data": {
      "text/plain": [
       "((17636, 80), (4410, 80))"
      ]
     },
     "execution_count": 42,
     "metadata": {},
     "output_type": "execute_result"
    }
   ],
   "source": [
    "gabor_train.shape, gabor_val.shape"
   ]
  },
  {
   "cell_type": "markdown",
   "metadata": {},
   "source": [
    "### GLCM Features:"
   ]
  },
  {
   "cell_type": "code",
   "execution_count": 74,
   "metadata": {},
   "outputs": [
    {
     "name": "stdout",
     "output_type": "stream",
     "text": [
      "Feature saved with name cache/glcm_train.pkl\n",
      "Feature saved with name cache/glcm_val.pkl\n"
     ]
    }
   ],
   "source": [
    "glcm_train = get_glcm(train_imgs, name='glcm_train', save=True)\n",
    "glcm_val = get_glcm(val_imgs, name='glcm_val', save=True)"
   ]
  },
  {
   "cell_type": "code",
   "execution_count": 43,
   "metadata": {},
   "outputs": [],
   "source": [
    "glcm_train = load_feature('cache/glcm_train.pkl')\n",
    "glcm_val = load_feature('cache/glcm_val.pkl')"
   ]
  },
  {
   "cell_type": "code",
   "execution_count": 44,
   "metadata": {},
   "outputs": [
    {
     "data": {
      "text/plain": [
       "((17636, 72), (4410, 72))"
      ]
     },
     "execution_count": 44,
     "metadata": {},
     "output_type": "execute_result"
    }
   ],
   "source": [
    "glcm_train.shape, glcm_val.shape"
   ]
  },
  {
   "cell_type": "markdown",
   "metadata": {},
   "source": [
    "### Flattened Image"
   ]
  },
  {
   "cell_type": "markdown",
   "metadata": {},
   "source": [
    "#### RGB:"
   ]
  },
  {
   "cell_type": "code",
   "execution_count": 59,
   "metadata": {},
   "outputs": [
    {
     "name": "stdout",
     "output_type": "stream",
     "text": [
      "Feature saved with name cache/flat_rgb_train.pkl\n",
      "Feature saved with name cache/flat_rgb_val.pkl\n"
     ]
    }
   ],
   "source": [
    "flat_rgb_train = get_flattened(train_imgs, None, name='flat_rgb_train', save=True)\n",
    "flat_rgb_val = get_flattened(val_imgs, None, name='flat_rgb_val', save=True)"
   ]
  },
  {
   "cell_type": "code",
   "execution_count": 45,
   "metadata": {},
   "outputs": [],
   "source": [
    "flat_rgb_train = load_feature('cache/flat_rgb_train.pkl')\n",
    "flat_rgb_val = load_feature('cache/flat_rgb_val.pkl')"
   ]
  },
  {
   "cell_type": "code",
   "execution_count": 46,
   "metadata": {},
   "outputs": [
    {
     "data": {
      "text/plain": [
       "((17636, 3072), (4410, 3072))"
      ]
     },
     "execution_count": 46,
     "metadata": {},
     "output_type": "execute_result"
    }
   ],
   "source": [
    "flat_rgb_train.shape, flat_rgb_val.shape"
   ]
  },
  {
   "cell_type": "markdown",
   "metadata": {},
   "source": [
    "#### GRAY:"
   ]
  },
  {
   "cell_type": "code",
   "execution_count": 62,
   "metadata": {},
   "outputs": [
    {
     "name": "stdout",
     "output_type": "stream",
     "text": [
      "Feature saved with name cache/flat_gray_train.pkl\n",
      "Feature saved with name cache/flat_gray_val.pkl\n"
     ]
    }
   ],
   "source": [
    "flat_gray_train = get_flattened(train_imgs, name='flat_gray_train', save=True)\n",
    "flat_gray_val = get_flattened(val_imgs, name='flat_gray_val', save=True)"
   ]
  },
  {
   "cell_type": "code",
   "execution_count": 47,
   "metadata": {},
   "outputs": [],
   "source": [
    "flat_gray_train = load_feature('cache/flat_gray_train.pkl')\n",
    "flat_gray_val = load_feature('cache/flat_gray_val.pkl')"
   ]
  },
  {
   "cell_type": "code",
   "execution_count": 48,
   "metadata": {},
   "outputs": [
    {
     "data": {
      "text/plain": [
       "((17636, 1024), (4410, 1024))"
      ]
     },
     "execution_count": 48,
     "metadata": {},
     "output_type": "execute_result"
    }
   ],
   "source": [
    "flat_gray_train.shape, flat_gray_val.shape"
   ]
  },
  {
   "cell_type": "markdown",
   "metadata": {},
   "source": [
    "#### Color Histogram:"
   ]
  },
  {
   "cell_type": "code",
   "execution_count": 65,
   "metadata": {},
   "outputs": [
    {
     "name": "stdout",
     "output_type": "stream",
     "text": [
      "Feature saved with name cache/hist_train.pkl\n",
      "Feature saved with name cache/hist_val.pkl\n"
     ]
    }
   ],
   "source": [
    "hist_train = get_color_hist(train_imgs, name='hist_train', save=True)\n",
    "hist_val = get_color_hist(val_imgs, name='hist_val', save=True)"
   ]
  },
  {
   "cell_type": "code",
   "execution_count": 49,
   "metadata": {},
   "outputs": [],
   "source": [
    "hist_train = load_feature('cache/hist_train.pkl')\n",
    "hist_val = load_feature('cache/hist_val.pkl')"
   ]
  },
  {
   "cell_type": "code",
   "execution_count": 50,
   "metadata": {},
   "outputs": [
    {
     "data": {
      "text/plain": [
       "((17636, 512), (4410, 512))"
      ]
     },
     "execution_count": 50,
     "metadata": {},
     "output_type": "execute_result"
    }
   ],
   "source": [
    "hist_train.shape, hist_val.shape"
   ]
  },
  {
   "cell_type": "markdown",
   "metadata": {},
   "source": [
    "### Reduce Features by PCA:"
   ]
  },
  {
   "cell_type": "markdown",
   "metadata": {},
   "source": [
    "#### HOG Features:"
   ]
  },
  {
   "cell_type": "code",
   "execution_count": 52,
   "metadata": {},
   "outputs": [],
   "source": [
    "# norm_hog_train, norm_hog_val = norm_features_minmax(hog_train, hog_val)\n",
    "norm_hog_train, norm_hog_val = norm_features_zscore(hog_train, hog_val)"
   ]
  },
  {
   "cell_type": "code",
   "execution_count": 53,
   "metadata": {},
   "outputs": [],
   "source": [
    "pca = PCA(n_components=10)\n",
    "pca_hog_train = pca.fit_transform(norm_hog_train)\n",
    "pca_hog_val = pca.transform(norm_hog_val)"
   ]
  },
  {
   "cell_type": "code",
   "execution_count": 54,
   "metadata": {},
   "outputs": [],
   "source": [
    "np.save('cache/pca_hog_train.npy', pca_hog_train)\n",
    "np.save('cache/pca_hog_val.npy', pca_hog_val)"
   ]
  },
  {
   "cell_type": "code",
   "execution_count": 55,
   "metadata": {},
   "outputs": [],
   "source": [
    "pca_hog_train = np.load('cache/pca_hog_train.npy')\n",
    "pca_hog_val = np.load('cache/pca_hog_val.npy')"
   ]
  },
  {
   "cell_type": "code",
   "execution_count": 56,
   "metadata": {},
   "outputs": [
    {
     "data": {
      "text/plain": [
       "((17636, 10), (4410, 10))"
      ]
     },
     "execution_count": 56,
     "metadata": {},
     "output_type": "execute_result"
    }
   ],
   "source": [
    "pca_hog_train.shape, pca_hog_val.shape"
   ]
  },
  {
   "cell_type": "markdown",
   "metadata": {},
   "source": [
    "#### LBP Features:"
   ]
  },
  {
   "cell_type": "code",
   "execution_count": 57,
   "metadata": {},
   "outputs": [],
   "source": [
    "# norm_lbp_train, norm_lbp_val = norm_features_minmax(lbp_train, lbp_val)\n",
    "norm_lbp_train, norm_lbp_val = norm_features_zscore(lbp_train, lbp_val)"
   ]
  },
  {
   "cell_type": "code",
   "execution_count": 58,
   "metadata": {},
   "outputs": [],
   "source": [
    "pca = PCA(n_components=10)\n",
    "pca_lbp_train = pca.fit_transform(norm_lbp_train)\n",
    "pca_lbp_val = pca.transform(norm_lbp_val)"
   ]
  },
  {
   "cell_type": "code",
   "execution_count": 59,
   "metadata": {},
   "outputs": [],
   "source": [
    "np.save('cache/pca_lbp_train.npy', pca_lbp_train)\n",
    "np.save('cache/pca_lbp_val.npy', pca_lbp_val)"
   ]
  },
  {
   "cell_type": "code",
   "execution_count": 60,
   "metadata": {},
   "outputs": [],
   "source": [
    "pca_lbp_train = np.load('cache/pca_lbp_train.npy')\n",
    "pca_lbp_val = np.load('cache/pca_lbp_val.npy')"
   ]
  },
  {
   "cell_type": "code",
   "execution_count": 61,
   "metadata": {},
   "outputs": [
    {
     "data": {
      "text/plain": [
       "((17636, 10), (4410, 10))"
      ]
     },
     "execution_count": 61,
     "metadata": {},
     "output_type": "execute_result"
    }
   ],
   "source": [
    "pca_lbp_train.shape, pca_lbp_val.shape"
   ]
  },
  {
   "cell_type": "markdown",
   "metadata": {},
   "source": [
    "#### KAZE Features:"
   ]
  },
  {
   "cell_type": "code",
   "execution_count": 62,
   "metadata": {},
   "outputs": [],
   "source": [
    "# norm_kaze_train, norm_kaze_val = norm_features_minmax(kaze_train, kaze_val)\n",
    "norm_kaze_train, norm_kaze_val = norm_features_zscore(kaze_train, kaze_val)"
   ]
  },
  {
   "cell_type": "code",
   "execution_count": 63,
   "metadata": {},
   "outputs": [],
   "source": [
    "pca = PCA(n_components=10)\n",
    "pca_kaze_train = pca.fit_transform(norm_kaze_train)\n",
    "pca_kaze_val = pca.transform(norm_kaze_val)"
   ]
  },
  {
   "cell_type": "code",
   "execution_count": 64,
   "metadata": {},
   "outputs": [],
   "source": [
    "np.save('cache/pca_kaze_train.npy', pca_kaze_train)\n",
    "np.save('cache/pca_kaze_val.npy', pca_kaze_val)"
   ]
  },
  {
   "cell_type": "code",
   "execution_count": 65,
   "metadata": {},
   "outputs": [],
   "source": [
    "pca_kaze_train = np.load('cache/pca_kaze_train.npy')\n",
    "pca_kaze_val = np.load('cache/pca_kaze_val.npy')"
   ]
  },
  {
   "cell_type": "code",
   "execution_count": 66,
   "metadata": {},
   "outputs": [
    {
     "data": {
      "text/plain": [
       "((17636, 10), (4410, 10))"
      ]
     },
     "execution_count": 66,
     "metadata": {},
     "output_type": "execute_result"
    }
   ],
   "source": [
    "pca_kaze_train.shape, pca_kaze_val.shape"
   ]
  },
  {
   "cell_type": "markdown",
   "metadata": {},
   "source": [
    "#### SIFT Features:"
   ]
  },
  {
   "cell_type": "code",
   "execution_count": 67,
   "metadata": {},
   "outputs": [],
   "source": [
    "# norm_sift_train, norm_sift_val = norm_features_minmax(sift_train, sift_val)\n",
    "norm_sift_train, norm_sift_val = norm_features_zscore(sift_train, sift_val)"
   ]
  },
  {
   "cell_type": "code",
   "execution_count": 68,
   "metadata": {},
   "outputs": [],
   "source": [
    "pca = PCA(n_components=5)\n",
    "pca_sift_train = pca.fit_transform(norm_sift_train)\n",
    "pca_sift_val = pca.transform(norm_sift_val)"
   ]
  },
  {
   "cell_type": "code",
   "execution_count": 69,
   "metadata": {},
   "outputs": [],
   "source": [
    "np.save('cache/pca_sift_train.npy', pca_sift_train)\n",
    "np.save('cache/pca_sift_val.npy', pca_sift_val)"
   ]
  },
  {
   "cell_type": "code",
   "execution_count": 70,
   "metadata": {},
   "outputs": [],
   "source": [
    "pca_sift_train = np.load('cache/pca_sift_train.npy')\n",
    "pca_sift_val = np.load('cache/pca_sift_val.npy')"
   ]
  },
  {
   "cell_type": "code",
   "execution_count": 71,
   "metadata": {},
   "outputs": [
    {
     "data": {
      "text/plain": [
       "((17636, 5), (4410, 5))"
      ]
     },
     "execution_count": 71,
     "metadata": {},
     "output_type": "execute_result"
    }
   ],
   "source": [
    "pca_sift_train.shape, pca_sift_val.shape"
   ]
  },
  {
   "cell_type": "markdown",
   "metadata": {},
   "source": [
    "#### SURF Features:"
   ]
  },
  {
   "cell_type": "code",
   "execution_count": 72,
   "metadata": {},
   "outputs": [],
   "source": [
    "# norm_surf_train, norm_surf_val = norm_features_minmax(surf_train, surf_val)\n",
    "norm_surf_train, norm_surf_val = norm_features_zscore(surf_train, surf_val)"
   ]
  },
  {
   "cell_type": "code",
   "execution_count": 73,
   "metadata": {},
   "outputs": [],
   "source": [
    "pca = PCA(n_components=5)\n",
    "pca_surf_train = pca.fit_transform(norm_surf_train)\n",
    "pca_surf_val = pca.transform(norm_surf_val)"
   ]
  },
  {
   "cell_type": "code",
   "execution_count": 74,
   "metadata": {},
   "outputs": [],
   "source": [
    "np.save('cache/pca_surf_train.npy', pca_surf_train)\n",
    "np.save('cache/pca_surf_val.npy', pca_surf_val)"
   ]
  },
  {
   "cell_type": "code",
   "execution_count": 75,
   "metadata": {},
   "outputs": [],
   "source": [
    "pca_surf_train = np.load('cache/pca_surf_train.npy')\n",
    "pca_surf_val = np.load('cache/pca_surf_val.npy')"
   ]
  },
  {
   "cell_type": "code",
   "execution_count": 76,
   "metadata": {},
   "outputs": [
    {
     "data": {
      "text/plain": [
       "((17636, 5), (4410, 5))"
      ]
     },
     "execution_count": 76,
     "metadata": {},
     "output_type": "execute_result"
    }
   ],
   "source": [
    "pca_surf_train.shape, pca_surf_val.shape"
   ]
  },
  {
   "cell_type": "markdown",
   "metadata": {},
   "source": [
    "#### Gabor Fearures:"
   ]
  },
  {
   "cell_type": "code",
   "execution_count": 77,
   "metadata": {},
   "outputs": [],
   "source": [
    "# norm_gabor_train, norm_gabor_val = norm_features_minmax(gabor_train, gabor_val)\n",
    "norm_gabor_train, norm_gabor_val = norm_features_zscore(gabor_train, gabor_val)"
   ]
  },
  {
   "cell_type": "code",
   "execution_count": 81,
   "metadata": {},
   "outputs": [
    {
     "name": "stderr",
     "output_type": "stream",
     "text": [
      "/home/arijitiiest/Desktop/Workspace/Project/Malaria Detection/env/lib/python3.6/site-packages/sklearn/decomposition/_pca.py:545: RuntimeWarning: invalid value encountered in true_divide\n",
      "  self.explained_variance_ / total_var.sum()\n"
     ]
    }
   ],
   "source": [
    "pca = PCA(n_components=5)\n",
    "pca_gabor_train = pca.fit_transform(norm_gabor_train)\n",
    "pca_gabor_val = pca.transform(norm_gabor_val)"
   ]
  },
  {
   "cell_type": "code",
   "execution_count": 82,
   "metadata": {},
   "outputs": [],
   "source": [
    "np.save('cache/pca_gabor_train.npy', pca_gabor_train)\n",
    "np.save('cache/pca_gabor_val.npy', pca_gabor_val)"
   ]
  },
  {
   "cell_type": "code",
   "execution_count": 83,
   "metadata": {},
   "outputs": [],
   "source": [
    "pca_gabor_train = np.load('cache/pca_gabor_train.npy')\n",
    "pca_gabor_val = np.load('cache/pca_gabor_val.npy')"
   ]
  },
  {
   "cell_type": "code",
   "execution_count": 84,
   "metadata": {},
   "outputs": [
    {
     "data": {
      "text/plain": [
       "((17636, 5), (4410, 5))"
      ]
     },
     "execution_count": 84,
     "metadata": {},
     "output_type": "execute_result"
    }
   ],
   "source": [
    "pca_gabor_train.shape, pca_gabor_val.shape"
   ]
  },
  {
   "cell_type": "markdown",
   "metadata": {},
   "source": [
    "#### GLCM Features:"
   ]
  },
  {
   "cell_type": "code",
   "execution_count": 105,
   "metadata": {},
   "outputs": [],
   "source": [
    "# norm_glcm_train, norm_glcm_val = norm_features_minmax(glcm_train, glcm_val)\n",
    "norm_glcm_train, norm_glcm_val = norm_features_zscore(glcm_train, glcm_val)"
   ]
  },
  {
   "cell_type": "code",
   "execution_count": 106,
   "metadata": {},
   "outputs": [],
   "source": [
    "pca = PCA(n_components=5)\n",
    "pca_glcm_train = pca.fit_transform(norm_glcm_train)\n",
    "pca_glcm_val = pca.transform(norm_glcm_val)"
   ]
  },
  {
   "cell_type": "code",
   "execution_count": 107,
   "metadata": {},
   "outputs": [],
   "source": [
    "np.save('cache/pca_glcm_train.npy', pca_glcm_train)\n",
    "np.save('cache/pca_glcm_val.npy', pca_glcm_val)"
   ]
  },
  {
   "cell_type": "code",
   "execution_count": 85,
   "metadata": {},
   "outputs": [],
   "source": [
    "pca_glcm_train = np.load('cache/pca_glcm_train.npy')\n",
    "pca_glcm_val = np.load('cache/pca_glcm_val.npy')"
   ]
  },
  {
   "cell_type": "code",
   "execution_count": 86,
   "metadata": {},
   "outputs": [
    {
     "data": {
      "text/plain": [
       "((17636, 5), (4410, 5))"
      ]
     },
     "execution_count": 86,
     "metadata": {},
     "output_type": "execute_result"
    }
   ],
   "source": [
    "pca_glcm_train.shape, pca_glcm_val.shape"
   ]
  },
  {
   "cell_type": "markdown",
   "metadata": {},
   "source": [
    "#### Flattened Image:"
   ]
  },
  {
   "cell_type": "markdown",
   "metadata": {},
   "source": [
    "#### RGB:"
   ]
  },
  {
   "cell_type": "code",
   "execution_count": 110,
   "metadata": {},
   "outputs": [],
   "source": [
    "# norm_flat_rgb_train, norm_flat_rgb_val = norm_features_minmax(flat_rgb_train, flat_rgb_val)\n",
    "norm_flat_rgb_train, norm_flat_rgb_val = norm_features_zscore(flat_rgb_train, flat_rgb_val)"
   ]
  },
  {
   "cell_type": "code",
   "execution_count": 111,
   "metadata": {},
   "outputs": [],
   "source": [
    "pca = PCA(n_components=10)\n",
    "pca_flat_rgb_train = pca.fit_transform(norm_flat_rgb_train)\n",
    "pca_flat_rgb_val = pca.transform(norm_flat_rgb_val)"
   ]
  },
  {
   "cell_type": "code",
   "execution_count": 112,
   "metadata": {},
   "outputs": [],
   "source": [
    "np.save('cache/pca_flat_rgb_train.npy', pca_flat_rgb_train)\n",
    "np.save('cache/pca_flat_rgb_val.npy', pca_flat_rgb_val)"
   ]
  },
  {
   "cell_type": "code",
   "execution_count": 87,
   "metadata": {},
   "outputs": [],
   "source": [
    "pca_flat_rgb_train = np.load('cache/pca_flat_rgb_train.npy')\n",
    "pca_flat_rgb_val = np.load('cache/pca_flat_rgb_val.npy')"
   ]
  },
  {
   "cell_type": "code",
   "execution_count": 88,
   "metadata": {},
   "outputs": [
    {
     "data": {
      "text/plain": [
       "((17636, 10), (4410, 10))"
      ]
     },
     "execution_count": 88,
     "metadata": {},
     "output_type": "execute_result"
    }
   ],
   "source": [
    "pca_flat_rgb_train.shape, pca_flat_rgb_val.shape"
   ]
  },
  {
   "cell_type": "markdown",
   "metadata": {},
   "source": [
    "#### GRAY:"
   ]
  },
  {
   "cell_type": "code",
   "execution_count": 115,
   "metadata": {},
   "outputs": [],
   "source": [
    "# norm_flat_gray_train, norm_flat_gray_val = norm_features_minmax(flat_gray_train, flat_gray_val)\n",
    "norm_flat_gray_train, norm_flat_gray_val = norm_features_zscore(flat_gray_train, flat_gray_val)"
   ]
  },
  {
   "cell_type": "code",
   "execution_count": 116,
   "metadata": {},
   "outputs": [],
   "source": [
    "pca = PCA(n_components=6)\n",
    "pca_flat_gray_train = pca.fit_transform(norm_flat_gray_train)\n",
    "pca_flat_gray_val = pca.transform(norm_flat_gray_val)"
   ]
  },
  {
   "cell_type": "code",
   "execution_count": 117,
   "metadata": {},
   "outputs": [],
   "source": [
    "np.save('cache/pca_flat_gray_train.npy', pca_flat_gray_train)\n",
    "np.save('cache/pca_flat_gray_val.npy', pca_flat_gray_val)"
   ]
  },
  {
   "cell_type": "code",
   "execution_count": 89,
   "metadata": {},
   "outputs": [],
   "source": [
    "pca_flat_gray_train = np.load('cache/pca_flat_gray_train.npy')\n",
    "pca_flat_gray_val = np.load('cache/pca_flat_gray_val.npy')"
   ]
  },
  {
   "cell_type": "code",
   "execution_count": 90,
   "metadata": {},
   "outputs": [
    {
     "data": {
      "text/plain": [
       "((17636, 6), (4410, 6))"
      ]
     },
     "execution_count": 90,
     "metadata": {},
     "output_type": "execute_result"
    }
   ],
   "source": [
    "pca_flat_gray_train.shape, pca_flat_gray_val.shape"
   ]
  },
  {
   "cell_type": "markdown",
   "metadata": {},
   "source": [
    "#### Color Histogram:"
   ]
  },
  {
   "cell_type": "code",
   "execution_count": 120,
   "metadata": {},
   "outputs": [],
   "source": [
    "# norm_hist_train, norm_hist_val = norm_features_minmax(hist_train, hist_val)\n",
    "norm_hist_train, norm_hist_val = norm_features_zscore(hist_train, hist_val)"
   ]
  },
  {
   "cell_type": "code",
   "execution_count": 121,
   "metadata": {},
   "outputs": [],
   "source": [
    "pca = PCA(n_components=10)\n",
    "pca_hist_train = pca.fit_transform(norm_hist_train)\n",
    "pca_hist_val = pca.transform(norm_hist_val)"
   ]
  },
  {
   "cell_type": "code",
   "execution_count": 122,
   "metadata": {},
   "outputs": [],
   "source": [
    "np.save('cache/pca_hist_train.npy', pca_hist_train)\n",
    "np.save('cache/pca_hist_val.npy', pca_hist_val)"
   ]
  },
  {
   "cell_type": "code",
   "execution_count": 91,
   "metadata": {},
   "outputs": [],
   "source": [
    "pca_hist_train = np.load('cache/pca_hist_train.npy')\n",
    "pca_hist_val = np.load('cache/pca_hist_val.npy')"
   ]
  },
  {
   "cell_type": "code",
   "execution_count": 92,
   "metadata": {},
   "outputs": [
    {
     "data": {
      "text/plain": [
       "((17636, 10), (4410, 10))"
      ]
     },
     "execution_count": 92,
     "metadata": {},
     "output_type": "execute_result"
    }
   ],
   "source": [
    "pca_hist_train.shape, pca_hist_val.shape"
   ]
  },
  {
   "cell_type": "markdown",
   "metadata": {},
   "source": [
    "### Feature PCA variance comparison:"
   ]
  },
  {
   "cell_type": "code",
   "execution_count": 93,
   "metadata": {},
   "outputs": [
    {
     "data": {
      "text/plain": [
       "10"
      ]
     },
     "execution_count": 93,
     "metadata": {},
     "output_type": "execute_result"
    }
   ],
   "source": [
    "pca_array = []\n",
    "pca_array.append(pca_hog_train)\n",
    "pca_array.append(pca_lbp_train)\n",
    "pca_array.append(pca_sift_train)\n",
    "pca_array.append(pca_surf_train)\n",
    "pca_array.append(pca_kaze_train)\n",
    "pca_array.append(pca_gabor_train)\n",
    "pca_array.append(pca_glcm_train)\n",
    "pca_array.append(pca_hist_train)\n",
    "pca_array.append(pca_flat_gray_train)\n",
    "pca_array.append(pca_flat_rgb_train)\n",
    "len(pca_array)"
   ]
  },
  {
   "cell_type": "code",
   "execution_count": 94,
   "metadata": {},
   "outputs": [
    {
     "data": {
      "image/png": "[encoded data removed]",
      "text/plain": [
       "<Figure size 1080x2160 with 10 Axes>"
      ]
     },
     "metadata": {
      "needs_background": "light"
     },
     "output_type": "display_data"
    }
   ],
   "source": [
    "pca_projection(pca_array, ['HOG', 'LBP', 'SIFT', 'SURF', 'KAZE', 'GABOR', 'GLCM', 'Color Histogram', 'Flatten GRAY', 'Flatten RGB'])"
   ]
  },
  {
   "cell_type": "markdown",
   "metadata": {},
   "source": [
    "### Reduce Features by LDA:"
   ]
  },
  {
   "cell_type": "markdown",
   "metadata": {},
   "source": [
    "#### HOG Features:"
   ]
  },
  {
   "cell_type": "code",
   "execution_count": 177,
   "metadata": {},
   "outputs": [],
   "source": [
    "lda = LDA()\n",
    "lda_hog_train = lda.fit_transform(norm_hog_train, train_y)\n",
    "lda_hog_val = lda.transform(norm_hog_val)"
   ]
  },
  {
   "cell_type": "code",
   "execution_count": 178,
   "metadata": {},
   "outputs": [
    {
     "data": {
      "text/plain": [
       "((17636, 1), (4410, 1))"
      ]
     },
     "execution_count": 178,
     "metadata": {},
     "output_type": "execute_result"
    }
   ],
   "source": [
    "lda_hog_train.shape, lda_hog_val.shape"
   ]
  },
  {
   "cell_type": "code",
   "execution_count": 179,
   "metadata": {},
   "outputs": [],
   "source": [
    "np.save('cache/lda_hog_train.npy', lda_hog_train)\n",
    "np.save('cache/lda_hog_val.npy', lda_hog_val)"
   ]
  },
  {
   "cell_type": "code",
   "execution_count": 95,
   "metadata": {},
   "outputs": [],
   "source": [
    "lda_hog_train = np.load('cache/lda_hog_train.npy')\n",
    "lda_hog_val = np.load('cache/lda_hog_val.npy')"
   ]
  },
  {
   "cell_type": "code",
   "execution_count": 96,
   "metadata": {},
   "outputs": [
    {
     "data": {
      "text/plain": [
       "((17636, 1), (4410, 1))"
      ]
     },
     "execution_count": 96,
     "metadata": {},
     "output_type": "execute_result"
    }
   ],
   "source": [
    "lda_hog_train.shape, lda_hog_val.shape"
   ]
  },
  {
   "cell_type": "markdown",
   "metadata": {},
   "source": [
    "#### LBP Features:"
   ]
  },
  {
   "cell_type": "code",
   "execution_count": 182,
   "metadata": {},
   "outputs": [],
   "source": [
    "lda = LDA()\n",
    "lda_lbp_train = lda.fit_transform(norm_lbp_train, train_y)\n",
    "lda_lbp_val = lda.transform(norm_lbp_val)"
   ]
  },
  {
   "cell_type": "code",
   "execution_count": 183,
   "metadata": {},
   "outputs": [],
   "source": [
    "np.save('cache/lda_lbp_train.npy', lda_lbp_train)\n",
    "np.save('cache/lda_lbp_val.npy', lda_lbp_val)"
   ]
  },
  {
   "cell_type": "code",
   "execution_count": 97,
   "metadata": {},
   "outputs": [],
   "source": [
    "lda_lbp_train = np.load('cache/lda_lbp_train.npy')\n",
    "lda_lbp_val = np.load('cache/lda_lbp_val.npy')"
   ]
  },
  {
   "cell_type": "code",
   "execution_count": 98,
   "metadata": {},
   "outputs": [
    {
     "data": {
      "text/plain": [
       "((17636, 1), (4410, 1))"
      ]
     },
     "execution_count": 98,
     "metadata": {},
     "output_type": "execute_result"
    }
   ],
   "source": [
    "lda_lbp_train.shape, lda_lbp_val.shape"
   ]
  },
  {
   "cell_type": "markdown",
   "metadata": {},
   "source": [
    "#### SIFT:"
   ]
  },
  {
   "cell_type": "code",
   "execution_count": 186,
   "metadata": {},
   "outputs": [],
   "source": [
    "lda = LDA()\n",
    "lda_sift_train = lda.fit_transform(norm_sift_train, train_y)\n",
    "lda_sift_val = lda.transform(norm_sift_val)"
   ]
  },
  {
   "cell_type": "code",
   "execution_count": 187,
   "metadata": {},
   "outputs": [],
   "source": [
    "np.save('cache/lda_sift_train.npy', lda_sift_train)\n",
    "np.save('cache/lda_sift_val.npy', lda_sift_val)"
   ]
  },
  {
   "cell_type": "code",
   "execution_count": 99,
   "metadata": {},
   "outputs": [],
   "source": [
    "lda_sift_train = np.load('cache/lda_sift_train.npy')\n",
    "lda_sift_val = np.load('cache/lda_sift_val.npy')"
   ]
  },
  {
   "cell_type": "code",
   "execution_count": 100,
   "metadata": {},
   "outputs": [
    {
     "data": {
      "text/plain": [
       "((17636, 1), (4410, 1))"
      ]
     },
     "execution_count": 100,
     "metadata": {},
     "output_type": "execute_result"
    }
   ],
   "source": [
    "lda_sift_train.shape, lda_sift_val.shape"
   ]
  },
  {
   "cell_type": "markdown",
   "metadata": {},
   "source": [
    "#### Color Histogram:"
   ]
  },
  {
   "cell_type": "code",
   "execution_count": 190,
   "metadata": {},
   "outputs": [],
   "source": [
    "lda = LDA()\n",
    "lda_hist_train = lda.fit_transform(norm_hist_train, train_y)\n",
    "lda_hist_val = lda.transform(norm_hist_val)"
   ]
  },
  {
   "cell_type": "code",
   "execution_count": 191,
   "metadata": {},
   "outputs": [],
   "source": [
    "np.save('cache/lda_hist_train.npy', lda_hist_train)\n",
    "np.save('cache/lda_hist_val.npy', lda_hist_val)"
   ]
  },
  {
   "cell_type": "code",
   "execution_count": 101,
   "metadata": {},
   "outputs": [],
   "source": [
    "lda_hist_train = np.load('cache/lda_hist_train.npy')\n",
    "lda_hist_val = np.load('cache/lda_hist_val.npy')"
   ]
  },
  {
   "cell_type": "code",
   "execution_count": 102,
   "metadata": {},
   "outputs": [
    {
     "data": {
      "text/plain": [
       "((17636, 1), (4410, 1))"
      ]
     },
     "execution_count": 102,
     "metadata": {},
     "output_type": "execute_result"
    }
   ],
   "source": [
    "lda_hist_train.shape, lda_hist_val.shape"
   ]
  },
  {
   "cell_type": "markdown",
   "metadata": {},
   "source": [
    "### Combine Features normal:"
   ]
  },
  {
   "cell_type": "code",
   "execution_count": 194,
   "metadata": {},
   "outputs": [],
   "source": [
    "features_train = None\n",
    "features_val = None\n",
    "evs = []\n",
    "for ft, fv in zip([hog_train, hist_train, surf_train, flat_rgb_train, lbp_train, kaze_train, sift_train, gabor_train, glcm_train], \n",
    "                  [hog_val, hist_val, surf_val, flat_rgb_val, lbp_val, kaze_val, sift_val, gabor_val, glcm_val]):    \n",
    "#     scaler = preprocessing.StandardScaler()\n",
    "#     ft = scaler.fit_transform(ft)\n",
    "#     fv = scaler.transform(fv)\n",
    "#     ft = preprocessing.normalize(ft)\n",
    "#     fv = preprocessing.normalize(fv)\n",
    "    if features_train is None:\n",
    "        features_train = ft\n",
    "        features_val = fv\n",
    "    else:\n",
    "        features_train = combine_features([features_train, ft])\n",
    "        features_val = combine_features([features_val, fv])"
   ]
  },
  {
   "cell_type": "code",
   "execution_count": 174,
   "metadata": {},
   "outputs": [
    {
     "data": {
      "text/plain": [
       "((17636, 10596), (4410, 10596))"
      ]
     },
     "execution_count": 174,
     "metadata": {},
     "output_type": "execute_result"
    }
   ],
   "source": [
    "features_train.shape, features_val.shape"
   ]
  },
  {
   "cell_type": "markdown",
   "metadata": {},
   "source": [
    "### Combine Features PCA:"
   ]
  },
  {
   "cell_type": "code",
   "execution_count": 104,
   "metadata": {},
   "outputs": [],
   "source": [
    "features_train = None\n",
    "features_val = None\n",
    "evs = []\n",
    "for ft, fv in zip([pca_hog_train, pca_lbp_train, pca_sift_train, pca_flat_rgb_train, pca_hist_train, pca_glcm_train], \n",
    "                  [pca_hog_val, pca_lbp_val, pca_sift_val, pca_flat_rgb_val, pca_hist_val, pca_glcm_val]):    \n",
    "#     scaler = preprocessing.StandardScaler()\n",
    "#     ft = scaler.fit_transform(ft)\n",
    "#     fv = scaler.transform(fv)\n",
    "#     ft = preprocessing.normalize(ft)\n",
    "#     fv = preprocessing.normalize(fv)\n",
    "    if features_train is None:\n",
    "        features_train = ft\n",
    "        features_val = fv\n",
    "    else:\n",
    "        features_train = combine_features([features_train, ft])\n",
    "        features_val = combine_features([features_val, fv])"
   ]
  },
  {
   "cell_type": "code",
   "execution_count": 105,
   "metadata": {},
   "outputs": [
    {
     "data": {
      "text/plain": [
       "((17636, 50), (4410, 50))"
      ]
     },
     "execution_count": 105,
     "metadata": {},
     "output_type": "execute_result"
    }
   ],
   "source": [
    "features_train.shape, features_val.shape"
   ]
  },
  {
   "cell_type": "markdown",
   "metadata": {},
   "source": [
    "### Combine Features LDA:"
   ]
  },
  {
   "cell_type": "code",
   "execution_count": 106,
   "metadata": {},
   "outputs": [],
   "source": [
    "features_train_lda = None\n",
    "features_val_lda = None\n",
    "evs = []\n",
    "for ft, fv in zip([lda_hog_train, lda_hist_train, lda_lbp_train, lda_sift_train], \n",
    "                  [lda_hog_val, lda_hist_val, lda_lbp_val, lda_sift_val]):    \n",
    "#     scaler = preprocessing.StandardScaler()\n",
    "#     ft = scaler.fit_transform(ft)\n",
    "#     fv = scaler.transform(fv)\n",
    "#     ft = preprocessing.normalize(ft)\n",
    "#     fv = preprocessing.normalize(fv)\n",
    "    if features_train_lda is None:\n",
    "        features_train_lda = ft\n",
    "        features_val_lda = fv\n",
    "    else:\n",
    "        features_train_lda = combine_features([features_train_lda, ft])\n",
    "        features_val_lda = combine_features([features_val_lda, fv])"
   ]
  },
  {
   "cell_type": "code",
   "execution_count": 107,
   "metadata": {},
   "outputs": [
    {
     "data": {
      "text/plain": [
       "((17636, 4), (4410, 4))"
      ]
     },
     "execution_count": 107,
     "metadata": {},
     "output_type": "execute_result"
    }
   ],
   "source": [
    "features_train_lda.shape, features_val_lda.shape"
   ]
  },
  {
   "cell_type": "markdown",
   "metadata": {},
   "source": [
    "### LDA on PCA"
   ]
  },
  {
   "cell_type": "code",
   "execution_count": 108,
   "metadata": {},
   "outputs": [],
   "source": [
    "lda = LDA()\n",
    "lda_on_pca_train = lda.fit_transform(features_train, train_y)\n",
    "lda_on_pca_val = lda.transform(features_val)"
   ]
  },
  {
   "cell_type": "code",
   "execution_count": 109,
   "metadata": {},
   "outputs": [],
   "source": [
    "np.save('cache/lda_on_pca_train.npy', lda_on_pca_train)\n",
    "np.save('cache/lda_on_pca_val.npy', lda_on_pca_val)"
   ]
  },
  {
   "cell_type": "code",
   "execution_count": 110,
   "metadata": {},
   "outputs": [],
   "source": [
    "lda_on_pca_train = np.load('cache/lda_on_pca_train.npy')\n",
    "lda_on_pca_val = np.load('cache/lda_on_pca_val.npy')"
   ]
  },
  {
   "cell_type": "code",
   "execution_count": 111,
   "metadata": {},
   "outputs": [
    {
     "data": {
      "text/plain": [
       "((17636, 1), (4410, 1))"
      ]
     },
     "execution_count": 111,
     "metadata": {},
     "output_type": "execute_result"
    }
   ],
   "source": [
    "lda_on_pca_train.shape, lda_on_pca_val.shape"
   ]
  },
  {
   "cell_type": "markdown",
   "metadata": {},
   "source": [
    "### Combine Features:"
   ]
  },
  {
   "cell_type": "code",
   "execution_count": 112,
   "metadata": {},
   "outputs": [],
   "source": [
    "features_t = pca_hist_train\n",
    "features_v = pca_hist_val"
   ]
  },
  {
   "cell_type": "code",
   "execution_count": 113,
   "metadata": {},
   "outputs": [
    {
     "data": {
      "text/plain": [
       "((17636, 10), (4410, 10))"
      ]
     },
     "execution_count": 113,
     "metadata": {},
     "output_type": "execute_result"
    }
   ],
   "source": [
    "features_t.shape, features_v.shape"
   ]
  },
  {
   "cell_type": "markdown",
   "metadata": {},
   "source": [
    "## Classification:"
   ]
  },
  {
   "cell_type": "markdown",
   "metadata": {},
   "source": [
    "### PCA"
   ]
  },
  {
   "cell_type": "code",
   "execution_count": 207,
   "metadata": {},
   "outputs": [
    {
     "name": "stdout",
     "output_type": "stream",
     "text": [
      "Validation Accuracy in 'RF' = 0.8689342403628117\n",
      "[[1872  340]\n",
      " [ 238 1960]]\n",
      "Recall in 'RF' = 0.8462929475587704\n",
      "Precision in 'RF' = 0.8872037914691943\n",
      "F1 Score in 'RF' = 0.866265617769551\n"
     ]
    }
   ],
   "source": [
    "model1 = train_model(features_train, train_y, model_name='RF', validation=(features_val, val_y))"
   ]
  },
  {
   "cell_type": "code",
   "execution_count": 208,
   "metadata": {},
   "outputs": [],
   "source": [
    "prob1 = model1.predict_proba(features_val)\n",
    "prob10 = prob1[:,0].reshape(prob1.shape[0], 1)\n",
    "prob11 = prob1[:,1].reshape(prob1.shape[0], 1)"
   ]
  },
  {
   "cell_type": "code",
   "execution_count": 209,
   "metadata": {},
   "outputs": [
    {
     "name": "stdout",
     "output_type": "stream",
     "text": [
      "Validation Accuracy in 'BAG' = 0.8773242630385487\n",
      "[[1910  302]\n",
      " [ 239 1959]]\n",
      "Recall in 'BAG' = 0.8634719710669078\n",
      "Precision in 'BAG' = 0.8887854816193579\n",
      "F1 Score in 'BAG' = 0.8759458839715663\n"
     ]
    }
   ],
   "source": [
    "model2 = train_model(features_train, train_y, model_name='BAG', validation=(features_val, val_y))"
   ]
  },
  {
   "cell_type": "code",
   "execution_count": 210,
   "metadata": {},
   "outputs": [],
   "source": [
    "prob2 = model2.predict_proba(features_val)\n",
    "prob20 = prob2[:,0].reshape(prob2.shape[0], 1)\n",
    "prob21 = prob2[:,1].reshape(prob2.shape[0], 1)"
   ]
  },
  {
   "cell_type": "code",
   "execution_count": 211,
   "metadata": {},
   "outputs": [
    {
     "name": "stdout",
     "output_type": "stream",
     "text": [
      "Validation Accuracy in 'ADA' = 0.8650793650793651\n",
      "[[1861  351]\n",
      " [ 244 1954]]\n",
      "Recall in 'ADA' = 0.8413200723327305\n",
      "Precision in 'ADA' = 0.8840855106888361\n",
      "F1 Score in 'ADA' = 0.8621728051887885\n"
     ]
    }
   ],
   "source": [
    "model3 = train_model(features_train, train_y, model_name='ADA', validation=(features_val, val_y))"
   ]
  },
  {
   "cell_type": "code",
   "execution_count": 212,
   "metadata": {},
   "outputs": [],
   "source": [
    "prob3 = model3.predict_proba(features_val)\n",
    "prob30 = prob3[:,0].reshape(prob3.shape[0], 1)\n",
    "prob31 = prob3[:,1].reshape(prob3.shape[0], 1)"
   ]
  },
  {
   "cell_type": "code",
   "execution_count": 213,
   "metadata": {},
   "outputs": [
    {
     "name": "stdout",
     "output_type": "stream",
     "text": [
      "Validation Accuracy in 'NB' = 0.6616780045351474\n",
      "[[ 913 1299]\n",
      " [ 193 2005]]\n",
      "Recall in 'NB' = 0.412748643761302\n",
      "Precision in 'NB' = 0.825497287522604\n",
      "F1 Score in 'NB' = 0.5503315250150693\n"
     ]
    }
   ],
   "source": [
    "model4 = train_model(features_train, train_y, model_name='NB', validation=(features_val, val_y))"
   ]
  },
  {
   "cell_type": "code",
   "execution_count": 214,
   "metadata": {},
   "outputs": [],
   "source": [
    "prob4 = model4.predict_proba(features_val)\n",
    "prob40 = prob4[:,0].reshape(prob4.shape[0], 1)\n",
    "prob41 = prob4[:,1].reshape(prob4.shape[0], 1)"
   ]
  },
  {
   "cell_type": "code",
   "execution_count": 215,
   "metadata": {},
   "outputs": [
    {
     "name": "stdout",
     "output_type": "stream",
     "text": [
      "Validation Accuracy in 'SVM' = 0.861904761904762\n",
      "[[1892  320]\n",
      " [ 289 1909]]\n",
      "Recall in 'SVM' = 0.8553345388788427\n",
      "Precision in 'SVM' = 0.8674919761577258\n",
      "F1 Score in 'SVM' = 0.8613703619394492\n"
     ]
    }
   ],
   "source": [
    "model5 = train_model(features_train, train_y, model_name='SVM', validation=(features_val, val_y))"
   ]
  },
  {
   "cell_type": "code",
   "execution_count": 216,
   "metadata": {},
   "outputs": [],
   "source": [
    "prob5 = model5.predict_proba(features_val)\n",
    "prob50 = prob5[:,0].reshape(prob5.shape[0], 1)\n",
    "prob51 = prob5[:,1].reshape(prob5.shape[0], 1)"
   ]
  },
  {
   "cell_type": "code",
   "execution_count": 217,
   "metadata": {},
   "outputs": [
    {
     "name": "stdout",
     "output_type": "stream",
     "text": [
      "Validation Accuracy in 'XGB' = 0.9129251700680272\n",
      "[[1974  238]\n",
      " [ 146 2052]]\n",
      "Recall in 'XGB' = 0.8924050632911392\n",
      "Precision in 'XGB' = 0.9311320754716981\n",
      "F1 Score in 'XGB' = 0.9113573407202217\n"
     ]
    }
   ],
   "source": [
    "model6 = train_model(np.array(features_train), train_y, model_name='XGB', validation=(features_val, val_y))"
   ]
  },
  {
   "cell_type": "code",
   "execution_count": 218,
   "metadata": {},
   "outputs": [],
   "source": [
    "prob6 = model6.predict_proba(features_val)\n",
    "prob60 = prob6[:,0].reshape(prob6.shape[0], 1)\n",
    "prob61 = prob6[:,1].reshape(prob6.shape[0], 1)"
   ]
  },
  {
   "cell_type": "code",
   "execution_count": 219,
   "metadata": {},
   "outputs": [
    {
     "name": "stdout",
     "output_type": "stream",
     "text": [
      "Validation Accuracy in 'KNN' = 0.780045351473923\n",
      "[[1646  566]\n",
      " [ 404 1794]]\n",
      "Recall in 'KNN' = 0.744122965641953\n",
      "Precision in 'KNN' = 0.8029268292682927\n",
      "F1 Score in 'KNN' = 0.7724073205068044\n"
     ]
    }
   ],
   "source": [
    "model7 = train_model(np.array(features_train), train_y, model_name='KNN', validation=(features_val, val_y))"
   ]
  },
  {
   "cell_type": "code",
   "execution_count": 220,
   "metadata": {},
   "outputs": [],
   "source": [
    "prob7 = model7.predict_proba(features_val)\n",
    "prob70 = prob7[:,0].reshape(prob7.shape[0], 1)\n",
    "prob71 = prob7[:,1].reshape(prob7.shape[0], 1)"
   ]
  },
  {
   "cell_type": "code",
   "execution_count": 133,
   "metadata": {},
   "outputs": [
    {
     "data": {
      "image/png": "[encoded data removed]",
      "text/plain": [
       "<Figure size 960x480 with 1 Axes>"
      ]
     },
     "metadata": {},
     "output_type": "display_data"
    }
   ],
   "source": [
    "prob = np.concatenate((prob10, prob20, prob30, prob40, prob50, prob60, prob70), axis=1)\n",
    "plot_combine_roc(val_y, prob)"
   ]
  },
  {
   "cell_type": "code",
   "execution_count": 134,
   "metadata": {},
   "outputs": [
    {
     "data": {
      "image/png": "[encoded data removed]",
      "text/plain": [
       "<Figure size 960x480 with 1 Axes>"
      ]
     },
     "metadata": {},
     "output_type": "display_data"
    }
   ],
   "source": [
    "prob = np.concatenate((prob11, prob21, prob31, prob41, prob51, prob61, prob71), axis=1)\n",
    "plot_combine_roc(val_y, prob)"
   ]
  },
  {
   "cell_type": "markdown",
   "metadata": {},
   "source": [
    "### LDA"
   ]
  },
  {
   "cell_type": "code",
   "execution_count": 135,
   "metadata": {},
   "outputs": [
    {
     "name": "stdout",
     "output_type": "stream",
     "text": [
      "Validation Accuracy in 'RF' = 0.8428571428571429\n",
      "[[1839  373]\n",
      " [ 320 1878]]\n",
      "Recall in 'RF' = 0.831374321880651\n",
      "Precision in 'RF' = 0.8517832329782307\n",
      "F1 Score in 'RF' = 0.841455044612217\n"
     ]
    }
   ],
   "source": [
    "model8 = train_model(features_train_lda, train_y, model_name='RF', validation=(features_val_lda, val_y))"
   ]
  },
  {
   "cell_type": "code",
   "execution_count": 136,
   "metadata": {},
   "outputs": [],
   "source": [
    "prob8 = model8.predict_proba(features_val_lda)\n",
    "prob80 = prob8[:,0].reshape(prob8.shape[0], 1)\n",
    "prob81 = prob8[:,1].reshape(prob8.shape[0], 1)"
   ]
  },
  {
   "cell_type": "code",
   "execution_count": 137,
   "metadata": {},
   "outputs": [
    {
     "name": "stdout",
     "output_type": "stream",
     "text": [
      "Validation Accuracy in 'BAG' = 0.8405895691609977\n",
      "[[1834  378]\n",
      " [ 325 1873]]\n",
      "Recall in 'BAG' = 0.8291139240506329\n",
      "Precision in 'BAG' = 0.8494673459935155\n",
      "F1 Score in 'BAG' = 0.8391672386181652\n"
     ]
    }
   ],
   "source": [
    "model9 = train_model(features_train_lda, train_y, model_name='BAG', validation=(features_val_lda, val_y))"
   ]
  },
  {
   "cell_type": "code",
   "execution_count": 138,
   "metadata": {},
   "outputs": [],
   "source": [
    "prob9 = model9.predict_proba(features_val_lda)\n",
    "prob90 = prob9[:,0].reshape(prob9.shape[0], 1)\n",
    "prob91 = prob9[:,1].reshape(prob9.shape[0], 1)"
   ]
  },
  {
   "cell_type": "code",
   "execution_count": 139,
   "metadata": {},
   "outputs": [
    {
     "name": "stdout",
     "output_type": "stream",
     "text": [
      "Validation Accuracy in 'ADA' = 0.8399092970521542\n",
      "[[1811  401]\n",
      " [ 305 1893]]\n",
      "Recall in 'ADA' = 0.8187160940325497\n",
      "Precision in 'ADA' = 0.8558601134215501\n",
      "F1 Score in 'ADA' = 0.8368761552680222\n"
     ]
    }
   ],
   "source": [
    "model10 = train_model(features_train_lda, train_y, model_name='ADA', validation=(features_val_lda, val_y))"
   ]
  },
  {
   "cell_type": "code",
   "execution_count": 140,
   "metadata": {},
   "outputs": [],
   "source": [
    "prob10 = model10.predict_proba(features_val_lda)\n",
    "prob100 = prob10[:,0].reshape(prob10.shape[0], 1)\n",
    "prob101 = prob10[:,1].reshape(prob10.shape[0], 1)"
   ]
  },
  {
   "cell_type": "code",
   "execution_count": 141,
   "metadata": {},
   "outputs": [
    {
     "name": "stdout",
     "output_type": "stream",
     "text": [
      "Validation Accuracy in 'NB' = 0.845578231292517\n",
      "[[1843  369]\n",
      " [ 312 1886]]\n",
      "Recall in 'NB' = 0.8331826401446655\n",
      "Precision in 'NB' = 0.8552204176334107\n",
      "F1 Score in 'NB' = 0.8440577055186628\n"
     ]
    }
   ],
   "source": [
    "model11 = train_model(features_train_lda, train_y, model_name='NB', validation=(features_val_lda, val_y))"
   ]
  },
  {
   "cell_type": "code",
   "execution_count": 142,
   "metadata": {},
   "outputs": [],
   "source": [
    "prob11 = model11.predict_proba(features_val_lda)\n",
    "prob110 = prob11[:,0].reshape(prob11.shape[0], 1)\n",
    "prob111 = prob11[:,1].reshape(prob11.shape[0], 1)"
   ]
  },
  {
   "cell_type": "code",
   "execution_count": 143,
   "metadata": {},
   "outputs": [
    {
     "name": "stdout",
     "output_type": "stream",
     "text": [
      "Validation Accuracy in 'SVM' = 0.8555555555555555\n",
      "[[1890  322]\n",
      " [ 315 1883]]\n",
      "Recall in 'SVM' = 0.8544303797468354\n",
      "Precision in 'SVM' = 0.8571428571428571\n",
      "F1 Score in 'SVM' = 0.8557844690966719\n"
     ]
    }
   ],
   "source": [
    "model12 = train_model(features_train_lda, train_y, model_name='SVM', validation=(features_val_lda, val_y))"
   ]
  },
  {
   "cell_type": "code",
   "execution_count": 144,
   "metadata": {},
   "outputs": [],
   "source": [
    "prob12 = model12.predict_proba(features_val_lda)\n",
    "prob120 = prob12[:,0].reshape(prob12.shape[0], 1)\n",
    "prob121 = prob12[:,1].reshape(prob12.shape[0], 1)"
   ]
  },
  {
   "cell_type": "code",
   "execution_count": 145,
   "metadata": {},
   "outputs": [
    {
     "name": "stdout",
     "output_type": "stream",
     "text": [
      "Validation Accuracy in 'XGB' = 0.8360544217687075\n",
      "[[1819  393]\n",
      " [ 330 1868]]\n",
      "Recall in 'XGB' = 0.8223327305605787\n",
      "Precision in 'XGB' = 0.8464402047463937\n",
      "F1 Score in 'XGB' = 0.8342123366200412\n"
     ]
    }
   ],
   "source": [
    "model13 = train_model(features_train_lda, train_y, model_name='XGB', validation=(features_val_lda, val_y))"
   ]
  },
  {
   "cell_type": "code",
   "execution_count": 146,
   "metadata": {},
   "outputs": [],
   "source": [
    "prob13 = model13.predict_proba(features_val_lda)\n",
    "prob130 = prob13[:,0].reshape(prob13.shape[0], 1)\n",
    "prob131 = prob13[:,1].reshape(prob13.shape[0], 1)"
   ]
  },
  {
   "cell_type": "code",
   "execution_count": 147,
   "metadata": {},
   "outputs": [
    {
     "name": "stdout",
     "output_type": "stream",
     "text": [
      "Validation Accuracy in 'KNN' = 0.8317460317460318\n",
      "[[1827  385]\n",
      " [ 357 1841]]\n",
      "Recall in 'KNN' = 0.8259493670886076\n",
      "Precision in 'KNN' = 0.8365384615384616\n",
      "F1 Score in 'KNN' = 0.8312101910828025\n"
     ]
    }
   ],
   "source": [
    "model14 = train_model(features_train_lda, train_y, model_name='KNN', validation=(features_val_lda, val_y))"
   ]
  },
  {
   "cell_type": "code",
   "execution_count": 148,
   "metadata": {},
   "outputs": [],
   "source": [
    "prob14 = model14.predict_proba(features_val_lda)\n",
    "prob140 = prob14[:,0].reshape(prob14.shape[0], 1)\n",
    "prob141 = prob14[:,1].reshape(prob14.shape[0], 1)"
   ]
  },
  {
   "cell_type": "code",
   "execution_count": 149,
   "metadata": {},
   "outputs": [
    {
     "data": {
      "image/png": "[encoded data removed]",
      "text/plain": [
       "<Figure size 960x480 with 1 Axes>"
      ]
     },
     "metadata": {},
     "output_type": "display_data"
    }
   ],
   "source": [
    "prob = np.concatenate((prob80, prob90, prob100, prob110, prob120, prob130, prob140), axis=1)\n",
    "plot_combine_roc(val_y, prob)"
   ]
  },
  {
   "cell_type": "code",
   "execution_count": 150,
   "metadata": {},
   "outputs": [
    {
     "data": {
      "image/png": "[encoded data removed]",
      "text/plain": [
       "<Figure size 960x480 with 1 Axes>"
      ]
     },
     "metadata": {},
     "output_type": "display_data"
    }
   ],
   "source": [
    "prob = np.concatenate((prob81, prob91, prob101, prob111, prob121, prob131, prob141), axis=1)\n",
    "plot_combine_roc(val_y, prob)"
   ]
  },
  {
   "cell_type": "markdown",
   "metadata": {},
   "source": [
    "### LDA on PCA"
   ]
  },
  {
   "cell_type": "code",
   "execution_count": 151,
   "metadata": {},
   "outputs": [
    {
     "name": "stdout",
     "output_type": "stream",
     "text": [
      "Validation Accuracy in 'RF' = 0.8333333333333334\n",
      "[[1878  334]\n",
      " [ 401 1797]]\n",
      "Recall in 'RF' = 0.849005424954792\n",
      "Precision in 'RF' = 0.824045634050022\n",
      "F1 Score in 'RF' = 0.8363393453573814\n"
     ]
    }
   ],
   "source": [
    "model15 = train_model(lda_on_pca_train, train_y, model_name='RF', validation=(lda_on_pca_val, val_y))"
   ]
  },
  {
   "cell_type": "code",
   "execution_count": 152,
   "metadata": {},
   "outputs": [],
   "source": [
    "prob15 = model15.predict_proba(lda_on_pca_val)\n",
    "prob150 = prob15[:,0].reshape(prob15.shape[0], 1)\n",
    "prob151 = prob15[:,1].reshape(prob15.shape[0], 1)"
   ]
  },
  {
   "cell_type": "code",
   "execution_count": 153,
   "metadata": {},
   "outputs": [
    {
     "name": "stdout",
     "output_type": "stream",
     "text": [
      "Validation Accuracy in 'BAG' = 0.7623582766439909\n",
      "[[1660  552]\n",
      " [ 496 1702]]\n",
      "Recall in 'BAG' = 0.7504520795660036\n",
      "Precision in 'BAG' = 0.7699443413729128\n",
      "F1 Score in 'BAG' = 0.76007326007326\n"
     ]
    }
   ],
   "source": [
    "model16 = train_model(lda_on_pca_train, train_y, model_name='BAG', validation=(lda_on_pca_val, val_y))"
   ]
  },
  {
   "cell_type": "code",
   "execution_count": 154,
   "metadata": {},
   "outputs": [],
   "source": [
    "prob16 = model16.predict_proba(lda_on_pca_val)\n",
    "prob160 = prob16[:,0].reshape(prob16.shape[0], 1)\n",
    "prob161 = prob16[:,1].reshape(prob16.shape[0], 1)"
   ]
  },
  {
   "cell_type": "code",
   "execution_count": 155,
   "metadata": {},
   "outputs": [
    {
     "name": "stdout",
     "output_type": "stream",
     "text": [
      "Validation Accuracy in 'ADA' = 0.8333333333333334\n",
      "[[1866  346]\n",
      " [ 389 1809]]\n",
      "Recall in 'ADA' = 0.8435804701627486\n",
      "Precision in 'ADA' = 0.8274944567627495\n",
      "F1 Score in 'ADA' = 0.8354600402955004\n"
     ]
    }
   ],
   "source": [
    "model17 = train_model(lda_on_pca_train, train_y, model_name='ADA', validation=(lda_on_pca_val, val_y))"
   ]
  },
  {
   "cell_type": "code",
   "execution_count": 156,
   "metadata": {},
   "outputs": [],
   "source": [
    "prob17 = model17.predict_proba(lda_on_pca_val)\n",
    "prob170 = prob17[:,0].reshape(prob17.shape[0], 1)\n",
    "prob171 = prob17[:,1].reshape(prob17.shape[0], 1)"
   ]
  },
  {
   "cell_type": "code",
   "execution_count": 157,
   "metadata": {},
   "outputs": [
    {
     "name": "stdout",
     "output_type": "stream",
     "text": [
      "Validation Accuracy in 'NB' = 0.8206349206349206\n",
      "[[1694  518]\n",
      " [ 273 1925]]\n",
      "Recall in 'NB' = 0.7658227848101266\n",
      "Precision in 'NB' = 0.8612099644128114\n",
      "F1 Score in 'NB' = 0.8107202680067002\n"
     ]
    }
   ],
   "source": [
    "model18 = train_model(lda_on_pca_train, train_y, model_name='NB', validation=(lda_on_pca_val, val_y))"
   ]
  },
  {
   "cell_type": "code",
   "execution_count": 158,
   "metadata": {},
   "outputs": [],
   "source": [
    "prob18 = model18.predict_proba(lda_on_pca_val)\n",
    "prob180 = prob18[:,0].reshape(prob18.shape[0], 1)\n",
    "prob181 = prob18[:,1].reshape(prob18.shape[0], 1)"
   ]
  },
  {
   "cell_type": "code",
   "execution_count": 159,
   "metadata": {},
   "outputs": [
    {
     "name": "stdout",
     "output_type": "stream",
     "text": [
      "Validation Accuracy in 'SVM' = 0.8319727891156462\n",
      "[[1854  358]\n",
      " [ 383 1815]]\n",
      "Recall in 'SVM' = 0.8381555153707052\n",
      "Precision in 'SVM' = 0.8287885561019223\n",
      "F1 Score in 'SVM' = 0.8334457181389077\n"
     ]
    }
   ],
   "source": [
    "model19 = train_model(lda_on_pca_train, train_y, model_name='SVM', validation=(lda_on_pca_val, val_y))"
   ]
  },
  {
   "cell_type": "code",
   "execution_count": 160,
   "metadata": {},
   "outputs": [],
   "source": [
    "prob19 = model19.predict_proba(lda_on_pca_val)\n",
    "prob190 = prob19[:,0].reshape(prob19.shape[0], 1)\n",
    "prob191 = prob19[:,1].reshape(prob19.shape[0], 1)"
   ]
  },
  {
   "cell_type": "code",
   "execution_count": 161,
   "metadata": {},
   "outputs": [
    {
     "name": "stdout",
     "output_type": "stream",
     "text": [
      "Validation Accuracy in 'XGB' = 0.8331065759637188\n",
      "[[1870  342]\n",
      " [ 394 1804]]\n",
      "Recall in 'XGB' = 0.8453887884267631\n",
      "Precision in 'XGB' = 0.8259717314487632\n",
      "F1 Score in 'XGB' = 0.8355674709562109\n"
     ]
    }
   ],
   "source": [
    "model20 = train_model(lda_on_pca_train, train_y, model_name='XGB', validation=(lda_on_pca_val, val_y))"
   ]
  },
  {
   "cell_type": "code",
   "execution_count": 162,
   "metadata": {},
   "outputs": [],
   "source": [
    "prob20 = model20.predict_proba(lda_on_pca_val)\n",
    "prob200 = prob20[:,0].reshape(prob20.shape[0], 1)\n",
    "prob201 = prob20[:,1].reshape(prob20.shape[0], 1)"
   ]
  },
  {
   "cell_type": "code",
   "execution_count": 163,
   "metadata": {},
   "outputs": [
    {
     "name": "stdout",
     "output_type": "stream",
     "text": [
      "Validation Accuracy in 'KNN' = 0.7882086167800454\n",
      "[[1727  485]\n",
      " [ 449 1749]]\n",
      "Recall in 'KNN' = 0.780741410488246\n",
      "Precision in 'KNN' = 0.7936580882352942\n",
      "F1 Score in 'KNN' = 0.7871467639015498\n"
     ]
    }
   ],
   "source": [
    "model21 = train_model(lda_on_pca_train, train_y, model_name='KNN', validation=(lda_on_pca_val, val_y))"
   ]
  },
  {
   "cell_type": "code",
   "execution_count": 164,
   "metadata": {},
   "outputs": [],
   "source": [
    "prob21 = model21.predict_proba(lda_on_pca_val)\n",
    "prob210 = prob21[:,0].reshape(prob21.shape[0], 1)\n",
    "prob211 = prob21[:,1].reshape(prob21.shape[0], 1)"
   ]
  },
  {
   "cell_type": "code",
   "execution_count": 165,
   "metadata": {},
   "outputs": [
    {
     "data": {
      "image/png": "[encoded data removed]",
      "text/plain": [
       "<Figure size 960x480 with 1 Axes>"
      ]
     },
     "metadata": {},
     "output_type": "display_data"
    }
   ],
   "source": [
    "prob = np.concatenate((prob150, prob160, prob170, prob180, prob190, prob200, prob210), axis=1)\n",
    "plot_combine_roc(val_y, prob)"
   ]
  },
  {
   "cell_type": "code",
   "execution_count": 166,
   "metadata": {},
   "outputs": [
    {
     "data": {
      "image/png": "[encoded data removed]",
      "text/plain": [
       "<Figure size 960x480 with 1 Axes>"
      ]
     },
     "metadata": {},
     "output_type": "display_data"
    }
   ],
   "source": [
    "prob = np.concatenate((prob151, prob161, prob171, prob181, prob191, prob201, prob211), axis=1)\n",
    "plot_combine_roc(val_y, prob)"
   ]
  },
  {
   "cell_type": "markdown",
   "metadata": {},
   "source": [
    "## Testing"
   ]
  },
  {
   "cell_type": "code",
   "execution_count": 169,
   "metadata": {},
   "outputs": [],
   "source": [
    "hog_comp_train = combine_features([hog_train, hog_val], horizontal=False)\n",
    "lbp_comp_train = combine_features([lbp_train, lbp_val], horizontal=False)\n",
    "kaze_comp_train = combine_features([kaze_train, kaze_val], horizontal=False)\n",
    "sift_comp_train = combine_features([sift_train, sift_val], horizontal=False)\n",
    "surf_comp_train = combine_features([surf_train, surf_val], horizontal=False)\n",
    "gabor_comp_train = combine_features([gabor_train, gabor_val], horizontal=False)\n",
    "glcm_comp_train = combine_features([glcm_train, glcm_val], horizontal=False)\n",
    "flat_rgb_comp_train = combine_features([flat_rgb_train, flat_rgb_val], horizontal=False)\n",
    "flat_gray_comp_train = combine_features([flat_gray_train, flat_gray_val], horizontal=False)\n",
    "hist_comp_train = combine_features([hist_train, hist_val], horizontal=False)"
   ]
  },
  {
   "cell_type": "code",
   "execution_count": 170,
   "metadata": {},
   "outputs": [],
   "source": [
    "data_y = np.hstack([train_y, val_y])"
   ]
  },
  {
   "cell_type": "code",
   "execution_count": 171,
   "metadata": {},
   "outputs": [
    {
     "name": "stderr",
     "output_type": "stream",
     "text": [
      "/home/arijitiiest/Desktop/Workspace/Project/Malaria Detection/env/lib/python3.6/site-packages/sklearn/decomposition/_pca.py:545: RuntimeWarning: invalid value encountered in true_divide\n",
      "  self.explained_variance_ / total_var.sum()\n"
     ]
    }
   ],
   "source": [
    "pcas_array = []\n",
    "\n",
    "pca = PCA(n_components=10)\n",
    "pca_hog_comp_train = pca.fit_transform(hog_comp_train)\n",
    "pcas_array.append(pca)\n",
    "\n",
    "pca = PCA(n_components=30)\n",
    "pca_lbp_comp_train = pca.fit_transform(lbp_comp_train)\n",
    "pcas_array.append(pca)\n",
    "\n",
    "pca = PCA(n_components=20)\n",
    "pca_kaze_comp_train = pca.fit_transform(kaze_comp_train)\n",
    "pcas_array.append(pca)\n",
    "\n",
    "pca = PCA(n_components=15)\n",
    "pca_sift_comp_train = pca.fit_transform(sift_comp_train)\n",
    "pcas_array.append(pca)\n",
    "\n",
    "pca = PCA(n_components=5)\n",
    "pca_surf_comp_train = pca.fit_transform(surf_comp_train)\n",
    "pcas_array.append(pca)\n",
    "\n",
    "pca = PCA(n_components=5)\n",
    "pca_gabor_comp_train = pca.fit_transform(gabor_comp_train)\n",
    "pcas_array.append(pca)\n",
    "\n",
    "pca = PCA(n_components=5)\n",
    "pca_glcm_comp_train = pca.fit_transform(glcm_comp_train)\n",
    "pcas_array.append(pca)\n",
    "\n",
    "pca = PCA(n_components=20)\n",
    "pca_flat_rgb_comp_train = pca.fit_transform(flat_rgb_comp_train)\n",
    "pcas_array.append(pca)\n",
    "\n",
    "pca = PCA(n_components=20)\n",
    "pca_flat_gray_comp_train = pca.fit_transform(flat_gray_comp_train)\n",
    "pcas_array.append(pca)\n",
    "\n",
    "pca = PCA(n_components=10)\n",
    "pca_hist_comp_train = pca.fit_transform(hist_comp_train)\n",
    "pcas_array.append(pca)"
   ]
  },
  {
   "cell_type": "code",
   "execution_count": 172,
   "metadata": {},
   "outputs": [],
   "source": [
    "reduced_train_features=[pca_hog_comp_train,\n",
    "                        pca_lbp_comp_train,\n",
    "                        pca_kaze_comp_train,\n",
    "                        pca_sift_comp_train,\n",
    "                        pca_surf_comp_train,\n",
    "                        pca_gabor_comp_train,\n",
    "                        pca_glcm_comp_train,\n",
    "                        pca_flat_rgb_comp_train,\n",
    "                        pca_flat_gray_comp_train,\n",
    "                        pca_hist_comp_train]"
   ]
  },
  {
   "cell_type": "code",
   "execution_count": 173,
   "metadata": {},
   "outputs": [
    {
     "name": "stdout",
     "output_type": "stream",
     "text": [
      "Feature saved with name cache/hog_test.pkl\n",
      "Feature saved with name cache/lbp_test.pkl\n",
      "Feature saved with name cache/kaze_test.pkl\n",
      "Feature saved with name cache/sift_test.pkl\n",
      "Feature saved with name cache/surf_test.pkl\n",
      "Feature saved with name cache/gabor_test.pkl\n",
      "Feature saved with name cache/glcm_test.pkl\n",
      "Feature saved with name cache/flat_rgb_test.pkl\n",
      "Feature saved with name cache/flat_gray_test.pkl\n",
      "Feature saved with name cache/hist_test.pkl\n"
     ]
    }
   ],
   "source": [
    "hog_test = get_hog(test_x, name='hog_test', save=True)\n",
    "lbp_test = get_lbp(test_x, name='lbp_test', save=True)\n",
    "kaze_test = get_kaze(test_x, name='kaze_test', save=True)\n",
    "sift_test = get_sift(test_x, name='sift_test', save=True)\n",
    "surf_test = get_surf(test_x, name='surf_test', save=True)\n",
    "gabor_test = get_gabor(test_x, name='gabor_test', save=True)\n",
    "glcm_test = get_glcm(test_x, name='glcm_test', save=True)\n",
    "flat_rgb_test = get_flattened(test_x, None, name='flat_rgb_test', save=True)\n",
    "flat_gray_test = get_flattened(test_x, name='flat_gray_test', save=True)\n",
    "hist_test = get_color_hist(test_x, name='hist_test', save=True)"
   ]
  },
  {
   "cell_type": "code",
   "execution_count": 174,
   "metadata": {},
   "outputs": [],
   "source": [
    "test_features= [hog_test,\n",
    "                lbp_test,\n",
    "                kaze_test,\n",
    "                sift_test,\n",
    "                surf_test,\n",
    "                gabor_test,\n",
    "                glcm_test,\n",
    "                flat_rgb_test,\n",
    "                flat_gray_test,\n",
    "                hist_test]"
   ]
  },
  {
   "cell_type": "code",
   "execution_count": 175,
   "metadata": {},
   "outputs": [],
   "source": [
    "features_comp_train = None\n",
    "features_test = None\n",
    "comp_pcas = []\n",
    "\n",
    "for i, (f_train, f_test) in enumerate(zip(reduced_train_features, \n",
    "                                          test_features)):\n",
    "    if i == 6:\n",
    "        continue\n",
    "    f_test = pcas_array[i].transform(f_test)\n",
    "    \n",
    "    if features_comp_train is None:\n",
    "        features_comp_train = f_train\n",
    "        features_test = f_test\n",
    "    else:\n",
    "        features_comp_train = combine_features([features_comp_train, f_train])\n",
    "        features_test = combine_features([features_test, f_test])"
   ]
  },
  {
   "cell_type": "code",
   "execution_count": 176,
   "metadata": {},
   "outputs": [
    {
     "data": {
      "text/plain": [
       "((22046, 135), (5512, 135))"
      ]
     },
     "execution_count": 176,
     "metadata": {},
     "output_type": "execute_result"
    }
   ],
   "source": [
    "features_comp_train.shape, features_test.shape"
   ]
  },
  {
   "cell_type": "code",
   "execution_count": 177,
   "metadata": {},
   "outputs": [],
   "source": [
    "comp_model = train_model(features_comp_train, data_y, model_name='XGB')"
   ]
  },
  {
   "cell_type": "code",
   "execution_count": 178,
   "metadata": {},
   "outputs": [],
   "source": [
    "y_hat = comp_model.predict(features_test)"
   ]
  },
  {
   "cell_type": "code",
   "execution_count": 179,
   "metadata": {},
   "outputs": [
    {
     "name": "stdout",
     "output_type": "stream",
     "text": [
      "0.8450653120464441\n",
      "[[2306  417]\n",
      " [ 437 2352]]\n",
      "0.8406853809697412 0.8468600807932427 0.8437614343212587\n"
     ]
    }
   ],
   "source": [
    "acc = metrics.accuracy_score(test_y, y_hat)\n",
    "print(acc)\n",
    "cm = metrics.confusion_matrix(test_y, y_hat)\n",
    "print(cm)\n",
    "precision = cm[0][0] / (cm[0][0] + cm[1][0])\n",
    "recall = cm[0][0] / (cm[0][0] + cm[0][1])\n",
    "f1 = 2*(recall * precision) / (recall + precision)\n",
    "print(precision, recall, f1)"
   ]
  },
  {
   "cell_type": "markdown",
   "metadata": {},
   "source": [
    "### CM"
   ]
  },
  {
   "cell_type": "code",
   "execution_count": 180,
   "metadata": {},
   "outputs": [],
   "source": [
    "y_hat1 = model1.predict(features_val)\n",
    "y_hat2 = model2.predict(features_val)\n",
    "y_hat3 = model3.predict(features_val)\n",
    "y_hat4 = model4.predict(features_val)\n",
    "y_hat5 = model5.predict(features_val)\n",
    "y_hat6 = model6.predict(features_val)\n",
    "y_hat7 = model7.predict(features_val)"
   ]
  },
  {
   "cell_type": "code",
   "execution_count": 181,
   "metadata": {},
   "outputs": [],
   "source": [
    "cm1 = MetricTools.confusion_matrix(val_y, y_hat1, 2)\n",
    "cm2 = MetricTools.confusion_matrix(val_y, y_hat2, 2)\n",
    "cm3 = MetricTools.confusion_matrix(val_y, y_hat3, 2)\n",
    "cm4 = MetricTools.confusion_matrix(val_y, y_hat4, 2)\n",
    "cm5 = MetricTools.confusion_matrix(val_y, y_hat5, 2)\n",
    "cm6 = MetricTools.confusion_matrix(val_y, y_hat6, 2)\n",
    "cm7 = MetricTools.confusion_matrix(val_y, y_hat7, 2)"
   ]
  },
  {
   "cell_type": "code",
   "execution_count": 182,
   "metadata": {},
   "outputs": [
    {
     "name": "stdout",
     "output_type": "stream",
     "text": [
      "[[1876.  336.]\n",
      " [ 248. 1950.]]\n",
      "[[1902.  310.]\n",
      " [ 242. 1956.]]\n",
      "[[1861.  351.]\n",
      " [ 244. 1954.]]\n",
      "[[ 913. 1299.]\n",
      " [ 193. 2005.]]\n",
      "[[1892.  320.]\n",
      " [ 289. 1909.]]\n",
      "[[1974.  238.]\n",
      " [ 146. 2052.]]\n",
      "[[1646.  566.]\n",
      " [ 404. 1794.]]\n"
     ]
    }
   ],
   "source": [
    "print(cm1)\n",
    "print(cm2)\n",
    "print(cm3)\n",
    "print(cm4)\n",
    "print(cm5)\n",
    "print(cm6)\n",
    "print(cm7)"
   ]
  },
  {
   "cell_type": "code",
   "execution_count": 199,
   "metadata": {},
   "outputs": [
    {
     "data": {
      "image/png": "[encoded data removed]",
      "text/plain": [
       "<Figure size 504x504 with 2 Axes>"
      ]
     },
     "metadata": {
      "needs_background": "light"
     },
     "output_type": "display_data"
    }
   ],
   "source": [
    "PlotTools.confusion_matrix(cm1, list(range(2)))"
   ]
  },
  {
   "cell_type": "markdown",
   "metadata": {},
   "source": [
    "### Model Stacking:"
   ]
  },
  {
   "cell_type": "code",
   "execution_count": 200,
   "metadata": {},
   "outputs": [
    {
     "data": {
      "text/plain": [
       "((17636, 30), (4410, 30))"
      ]
     },
     "execution_count": 200,
     "metadata": {},
     "output_type": "execute_result"
    }
   ],
   "source": [
    "features_train1 = None\n",
    "features_val1 = None\n",
    "evs = []\n",
    "for ft, fv in zip([pca_hist_train, pca_hog_train, pca_lbp_train], \n",
    "                  [pca_hist_val, pca_hog_val, pca_lbp_val]):    \n",
    "#     scaler = preprocessing.StandardScaler()\n",
    "#     ft = scaler.fit_transform(ft)\n",
    "#     fv = scaler.transform(fv)\n",
    "#     ft = preprocessing.normalize(ft)\n",
    "#     fv = preprocessing.normalize(fv)\n",
    "    if features_train1 is None:\n",
    "        features_train1 = ft\n",
    "        features_val1 = fv\n",
    "    else:\n",
    "        features_train1 = combine_features([features_train1, ft])\n",
    "        features_val1 = combine_features([features_val1, fv])\n",
    "features_train1.shape, features_val1.shape"
   ]
  },
  {
   "cell_type": "code",
   "execution_count": 201,
   "metadata": {},
   "outputs": [
    {
     "name": "stdout",
     "output_type": "stream",
     "text": [
      "Validation Accuracy in 'XGB' = 0.8990929705215419\n",
      "[[1958  254]\n",
      " [ 191 2007]]\n",
      "Recall in 'XGB' = 0.8851717902350814\n",
      "Precision in 'XGB' = 0.9111214518380643\n",
      "F1 Score in 'XGB' = 0.8979591836734695\n"
     ]
    }
   ],
   "source": [
    "model1 = train_model(features_train1, train_y, model_name='XGB', validation=(features_val1, val_y))\n",
    "prob1 = model1.predict_proba(features_val1)"
   ]
  },
  {
   "cell_type": "code",
   "execution_count": 202,
   "metadata": {},
   "outputs": [
    {
     "data": {
      "text/plain": [
       "((17636, 26), (4410, 26))"
      ]
     },
     "execution_count": 202,
     "metadata": {},
     "output_type": "execute_result"
    }
   ],
   "source": [
    "features_train2 = None\n",
    "features_val2 = None\n",
    "evs = []\n",
    "for ft, fv in zip([pca_hist_train, pca_flat_gray_train, pca_flat_rgb_train], \n",
    "                  [pca_hist_val, pca_flat_gray_val, pca_flat_rgb_val]):    \n",
    "#     scaler = preprocessing.StandardScaler()\n",
    "#     ft = scaler.fit_transform(ft)\n",
    "#     fv = scaler.transform(fv)\n",
    "#     ft = preprocessing.normalize(ft)\n",
    "#     fv = preprocessing.normalize(fv)\n",
    "    if features_train2 is None:\n",
    "        features_train2 = ft\n",
    "        features_val2 = fv\n",
    "    else:\n",
    "        features_train2 = combine_features([features_train2, ft])\n",
    "        features_val2 = combine_features([features_val2, fv])\n",
    "features_train2.shape, features_val2.shape"
   ]
  },
  {
   "cell_type": "code",
   "execution_count": 203,
   "metadata": {},
   "outputs": [
    {
     "name": "stdout",
     "output_type": "stream",
     "text": [
      "Validation Accuracy in 'XGB' = 0.8893424036281179\n",
      "[[1894  318]\n",
      " [ 170 2028]]\n",
      "Recall in 'XGB' = 0.85623869801085\n",
      "Precision in 'XGB' = 0.9176356589147286\n",
      "F1 Score in 'XGB' = 0.8858746492048644\n"
     ]
    }
   ],
   "source": [
    "model2 = train_model(features_train2, train_y, model_name='XGB', validation=(features_val2, val_y))\n",
    "prob2 = model2.predict_proba(features_val2)"
   ]
  },
  {
   "cell_type": "code",
   "execution_count": 204,
   "metadata": {},
   "outputs": [
    {
     "data": {
      "text/plain": [
       "((17636, 20), (4410, 20))"
      ]
     },
     "execution_count": 204,
     "metadata": {},
     "output_type": "execute_result"
    }
   ],
   "source": [
    "features_train3 = None\n",
    "features_val3 = None\n",
    "evs = []\n",
    "for ft, fv in zip([pca_kaze_train, pca_sift_train, pca_surf_train], \n",
    "                  [pca_kaze_val, pca_sift_val, pca_surf_val]):    \n",
    "#     scaler = preprocessing.StandardScaler()\n",
    "#     ft = scaler.fit_transform(ft)\n",
    "#     fv = scaler.transform(fv)\n",
    "#     ft = preprocessing.normalize(ft)\n",
    "#     fv = preprocessing.normalize(fv)\n",
    "    if features_train3 is None:\n",
    "        features_train3 = ft\n",
    "        features_val3 = fv\n",
    "    else:\n",
    "        features_train3 = combine_features([features_train3, ft])\n",
    "        features_val3 = combine_features([features_val3, fv])\n",
    "features_train3.shape, features_val3.shape"
   ]
  },
  {
   "cell_type": "code",
   "execution_count": 205,
   "metadata": {},
   "outputs": [
    {
     "name": "stdout",
     "output_type": "stream",
     "text": [
      "Validation Accuracy in 'XGB' = 0.754421768707483\n",
      "[[1508  704]\n",
      " [ 379 1819]]\n",
      "Recall in 'XGB' = 0.6817359855334539\n",
      "Precision in 'XGB' = 0.7991520932697403\n",
      "F1 Score in 'XGB' = 0.7357892168821665\n"
     ]
    }
   ],
   "source": [
    "model3 = train_model(features_train3, train_y, model_name='XGB', validation=(features_val3, val_y))\n",
    "prob3 = model3.predict_proba(features_val3)"
   ]
  },
  {
   "cell_type": "code",
   "execution_count": 221,
   "metadata": {},
   "outputs": [],
   "source": [
    "prob1 = model1.predict_proba(features_val)\n",
    "prob2 = model2.predict_proba(features_val)\n",
    "prob3 = model3.predict_proba(features_val)\n",
    "prob4 = model4.predict_proba(features_val)\n",
    "#prob5 = model5.score(features_val, )\n",
    "prob6 = model6.predict_proba(features_val)"
   ]
  },
  {
   "cell_type": "code",
   "execution_count": 238,
   "metadata": {},
   "outputs": [],
   "source": [
    "prob = (prob1 + prob2 + prob3 + prob4 + prob6) / 5\n",
    "y_hat = np.argmax(prob, axis=1)"
   ]
  },
  {
   "cell_type": "code",
   "execution_count": 239,
   "metadata": {},
   "outputs": [
    {
     "data": {
      "text/plain": [
       "0.8843537414965986"
      ]
     },
     "execution_count": 239,
     "metadata": {},
     "output_type": "execute_result"
    }
   ],
   "source": [
    "metrics.accuracy_score(val_y, y_hat)"
   ]
  },
  {
   "cell_type": "code",
   "execution_count": 240,
   "metadata": {},
   "outputs": [],
   "source": [
    "# y_hat = model.predict(features_val)"
   ]
  },
  {
   "cell_type": "code",
   "execution_count": 241,
   "metadata": {},
   "outputs": [],
   "source": [
    "cm = MetricTools.confusion_matrix(val_y, y_hat, 2)"
   ]
  },
  {
   "cell_type": "code",
   "execution_count": 242,
   "metadata": {},
   "outputs": [
    {
     "data": {
      "image/png": "[encoded data removed]",
      "text/plain": [
       "<Figure size 504x504 with 2 Axes>"
      ]
     },
     "metadata": {
      "needs_background": "light"
     },
     "output_type": "display_data"
    }
   ],
   "source": [
    "PlotTools.confusion_matrix(cm, list(range(2)))"
   ]
  },
  {
   "cell_type": "code",
   "execution_count": 243,
   "metadata": {},
   "outputs": [
    {
     "data": {
      "image/png": "[encoded data removed]",
      "text/plain": [
       "<Figure size 504x504 with 2 Axes>"
      ]
     },
     "metadata": {
      "needs_background": "light"
     },
     "output_type": "display_data"
    }
   ],
   "source": [
    "PlotTools.confusion_matrix(cm, list(range(2)))"
   ]
  },
  {
   "cell_type": "code",
   "execution_count": null,
   "metadata": {},
   "outputs": [],
   "source": []
  }
 ],
 "metadata": {
  "kernelspec": {
   "display_name": "Python 3",
   "language": "python",
   "name": "python3"
  },
  "language_info": {
   "codemirror_mode": {
    "name": "ipython",
    "version": 3
   },
   "file_extension": ".py",
   "mimetype": "text/x-python",
   "name": "python",
   "nbconvert_exporter": "python",
   "pygments_lexer": "ipython3",
   "version": "3.6.9"
  }
 },
 "nbformat": 4,
 "nbformat_minor": 2
}
